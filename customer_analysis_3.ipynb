{
  "nbformat": 4,
  "nbformat_minor": 0,
  "metadata": {
    "colab": {
      "provenance": [],
      "authorship_tag": "ABX9TyM/SXROWpIFGr/akWtB5qlT",
      "include_colab_link": true
    },
    "kernelspec": {
      "name": "python3",
      "display_name": "Python 3"
    },
    "language_info": {
      "name": "python"
    }
  },
  "cells": [
    {
      "cell_type": "markdown",
      "metadata": {
        "id": "view-in-github",
        "colab_type": "text"
      },
      "source": [
        "<a href=\"https://colab.research.google.com/github/ankitg-02/customer_analysis/blob/main/customer_analysis_3.ipynb\" target=\"_parent\"><img src=\"https://colab.research.google.com/assets/colab-badge.svg\" alt=\"Open In Colab\"/></a>"
      ]
    },
    {
      "cell_type": "code",
      "execution_count": 17,
      "metadata": {
        "id": "Qhu7xV8D8C9S"
      },
      "outputs": [],
      "source": [
        "import numpy as np\n",
        "import pandas as pd\n",
        "from matplotlib import pyplot as plt\n",
        "import seaborn as sns\n",
        "from sklearn.preprocessing import StandardScaler\n",
        "from sklearn.preprocessing import LabelEncoder\n",
        "from sklearn.preprocessing import OneHotEncoder\n",
        "from sklearn.compose import ColumnTransformer\n",
        "from sklearn.model_selection import train_test_split\n",
        "from sklearn.linear_model import LogisticRegression\n",
        "from sklearn.tree import DecisionTreeClassifier\n",
        "from sklearn.ensemble import RandomForestClassifier\n",
        "from sklearn.svm import SVC\n",
        "from sklearn.neighbors import KNeighborsClassifier\n",
        "from sklearn.naive_bayes import GaussianNB\n",
        "from sklearn.ensemble import AdaBoostClassifier\n",
        "from sklearn.metrics import accuracy_score,precision_score,recall_score,f1_score"
      ]
    },
    {
      "cell_type": "code",
      "source": [
        "#importing the dataset\n",
        "purchase=pd.read_csv(r\"/content/QVI_purchase_behaviour.csv\")\n",
        "data=pd.DataFrame(purchase)"
      ],
      "metadata": {
        "id": "79NA0v918SQ-"
      },
      "execution_count": 2,
      "outputs": []
    },
    {
      "cell_type": "code",
      "source": [
        "#implementing different encoders\n",
        "le=LabelEncoder()\n",
        "ohe=OneHotEncoder()"
      ],
      "metadata": {
        "id": "keXXqDKSgvr6"
      },
      "execution_count": 3,
      "outputs": []
    },
    {
      "cell_type": "code",
      "source": [
        "#implementing training data and testing data to input and output features\n",
        "x_train,x_test,y_train,y_test=train_test_split(data.drop('PREMIUM_CUSTOMER',axis=1),data['PREMIUM_CUSTOMER'],test_size=0.2,random_state=42)"
      ],
      "metadata": {
        "id": "NgA2dAHHXgbR"
      },
      "execution_count": 4,
      "outputs": []
    },
    {
      "cell_type": "code",
      "source": [
        "#implementing column transformer\n",
        "transformer=ColumnTransformer(transformers=[('encoder',ohe,['LIFESTAGE'])],remainder='passthrough')"
      ],
      "metadata": {
        "id": "IGPj_JpzX3Ai"
      },
      "execution_count": 5,
      "outputs": []
    },
    {
      "cell_type": "code",
      "source": [
        "x_train_mod=transformer.fit_transform(x_train)\n",
        "x_test_mod=transformer.transform(x_test)"
      ],
      "metadata": {
        "id": "ZUnb-1MtaEYG"
      },
      "execution_count": 6,
      "outputs": []
    },
    {
      "cell_type": "code",
      "source": [
        "y_train_mod=le.fit_transform(y_train)\n",
        "y_test_mod=le.transform(y_test)"
      ],
      "metadata": {
        "id": "6uBH6-Iycclx"
      },
      "execution_count": 7,
      "outputs": []
    },
    {
      "cell_type": "code",
      "source": [
        "sns.boxplot(x=data['PREMIUM_CUSTOMER'],y=data['LYLTY_CARD_NBR'])\n",
        "plt.show()"
      ],
      "metadata": {
        "colab": {
          "base_uri": "https://localhost:8080/",
          "height": 465
        },
        "id": "YmqCx1bQ4OxZ",
        "outputId": "52023a4b-7963-438e-fa94-9141eb221a19"
      },
      "execution_count": 8,
      "outputs": [
        {
          "output_type": "display_data",
          "data": {
            "text/plain": [
              "<Figure size 640x480 with 1 Axes>"
            ],
            "image/png": "[encoded data removed]"
          },
          "metadata": {}
        }
      ]
    },
    {
      "cell_type": "code",
      "source": [
        "# Initialize different models\n",
        "logistic_model = LogisticRegression()\n",
        "decision_tree_model = DecisionTreeClassifier()\n",
        "random_forest_model = RandomForestClassifier()\n",
        "svm_model = SVC()\n",
        "knn_model = KNeighborsClassifier()\n",
        "naive_bayes_model = GaussianNB()\n",
        "adaboost_model = AdaBoostClassifier()"
      ],
      "metadata": {
        "id": "-OOH-R_7_06h"
      },
      "execution_count": 18,
      "outputs": []
    },
    {
      "cell_type": "markdown",
      "source": [
        "**Logistic Regression**"
      ],
      "metadata": {
        "id": "wryZymWXe-qW"
      }
    },
    {
      "cell_type": "code",
      "source": [
        "mod1=logistic_model.fit(x_train_mod,y_train_mod)\n",
        "y_pred1=logistic_model.predict(x_test_mod)"
      ],
      "metadata": {
        "id": "KrQ6dWDcfFKI"
      },
      "execution_count": 10,
      "outputs": []
    },
    {
      "cell_type": "code",
      "source": [
        "acc1=accuracy_score(y_test_mod,y_pred1)\n",
        "pre1=precision_score(y_test_mod,y_pred1,average='macro')\n",
        "rec1=recall_score(y_test_mod,y_pred1,average='macro')\n",
        "f11=f1_score(y_test_mod,y_pred1,average='macro')\n",
        "print('accuracy score=',acc1,'precision score=',pre1,'recall score=',rec1,'f1 score=',f11)"
      ],
      "metadata": {
        "id": "4wlFLvZmfLo0",
        "colab": {
          "base_uri": "https://localhost:8080/"
        },
        "outputId": "fb3fb09d-e87f-4eef-e4c0-e3bd8fdcc1b5"
      },
      "execution_count": 11,
      "outputs": [
        {
          "output_type": "stream",
          "name": "stdout",
          "text": [
            "accuracy score= 0.40390969162995594 precision score= 0.134636563876652 recall score= 0.3333333333333333 f1 score= 0.19180231417925084\n"
          ]
        },
        {
          "output_type": "stream",
          "name": "stderr",
          "text": [
            "/usr/local/lib/python3.10/dist-packages/sklearn/metrics/_classification.py:1344: UndefinedMetricWarning: Precision is ill-defined and being set to 0.0 in labels with no predicted samples. Use `zero_division` parameter to control this behavior.\n",
            "  _warn_prf(average, modifier, msg_start, len(result))\n"
          ]
        }
      ]
    },
    {
      "cell_type": "markdown",
      "source": [
        "**DecissionTree**"
      ],
      "metadata": {
        "id": "JtLP41PUfNQ-"
      }
    },
    {
      "cell_type": "code",
      "source": [
        "mod2=decision_tree_model.fit(x_train_mod,y_train_mod)\n",
        "y_pred2=decision_tree_model.predict(x_test_mod)"
      ],
      "metadata": {
        "id": "K70XzEfafSsC"
      },
      "execution_count": 12,
      "outputs": []
    },
    {
      "cell_type": "code",
      "source": [
        "acc2=accuracy_score(y_test_mod,y_pred2)\n",
        "pre2=precision_score(y_test_mod,y_pred2,average='macro')\n",
        "rec2=recall_score(y_test_mod,y_pred2,average='macro')\n",
        "f12=f1_score(y_test_mod,y_pred2,average='macro')\n",
        "print('accuracy score=',acc2,'precision score=',pre2,'recall score=',rec2,'f1 score=',f12)"
      ],
      "metadata": {
        "colab": {
          "base_uri": "https://localhost:8080/"
        },
        "id": "qfnIgzsk9OQf",
        "outputId": "d2fa42b6-cc24-4b72-fb34-2bb4ffa449aa"
      },
      "execution_count": 13,
      "outputs": [
        {
          "output_type": "stream",
          "name": "stdout",
          "text": [
            "accuracy score= 0.3699752202643172 precision score= 0.35824205714056157 recall score= 0.3583709017230716 f1 score= 0.3582326968989437\n"
          ]
        }
      ]
    },
    {
      "cell_type": "markdown",
      "source": [
        "**RandomForest**"
      ],
      "metadata": {
        "id": "C55ANIqufYj-"
      }
    },
    {
      "cell_type": "code",
      "source": [
        "mod3=random_forest_model.fit(x_train_mod,y_train_mod)\n",
        "y_pred3=random_forest_model.predict(x_test_mod)"
      ],
      "metadata": {
        "id": "bsqd5AD1fdE_"
      },
      "execution_count": 14,
      "outputs": []
    },
    {
      "cell_type": "code",
      "source": [
        "acc3=accuracy_score(y_test_mod,y_pred3)\n",
        "pre3=precision_score(y_test_mod,y_pred3,average='macro')\n",
        "rec3=recall_score(y_test_mod,y_pred3,average='macro')\n",
        "f13=f1_score(y_test_mod,y_pred3,average='macro')\n",
        "print('accuracy score=',acc3,'precision score=',pre3,'recall score=',rec3,'f1 score=',f13)"
      ],
      "metadata": {
        "id": "gKUlj-sdfhuB",
        "colab": {
          "base_uri": "https://localhost:8080/"
        },
        "outputId": "1ba69e4a-05ba-4e9a-a138-5e10a75fb68f"
      },
      "execution_count": 15,
      "outputs": [
        {
          "output_type": "stream",
          "name": "stdout",
          "text": [
            "accuracy score= 0.3698375550660793 precision score= 0.35809630539538234 recall score= 0.35822738122434855 f1 score= 0.3580874631155701\n"
          ]
        }
      ]
    },
    {
      "cell_type": "markdown",
      "source": [
        "**Support Vector Machine**"
      ],
      "metadata": {
        "id": "9h6zskQu94sw"
      }
    },
    {
      "cell_type": "code",
      "source": [
        "mod4=svm_model.fit(x_train_mod,y_train_mod)\n",
        "y_pred4=svm_model.predict(x_test_mod)"
      ],
      "metadata": {
        "id": "RWpaUq-L94Tj"
      },
      "execution_count": 19,
      "outputs": []
    },
    {
      "cell_type": "code",
      "source": [
        "acc4=accuracy_score(y_test_mod,y_pred4)\n",
        "pre4=precision_score(y_test_mod,y_pred4,average='macro')\n",
        "rec4=recall_score(y_test_mod,y_pred4,average='macro')\n",
        "f14=f1_score(y_test_mod,y_pred4,average='macro')\n",
        "print('accuracy score=',acc4,'precision score=',pre4,'recall score=',rec4,'f1 score=',f14)"
      ],
      "metadata": {
        "id": "Xx2RVBa3-Dw4",
        "outputId": "91bc02b3-0688-4daa-bef5-cb5791661212",
        "colab": {
          "base_uri": "https://localhost:8080/"
        }
      },
      "execution_count": 20,
      "outputs": [
        {
          "output_type": "stream",
          "name": "stdout",
          "text": [
            "accuracy score= 0.40390969162995594 precision score= 0.24575253394530502 recall score= 0.3333457417938086 f1 score= 0.19193618041576266\n"
          ]
        },
        {
          "output_type": "stream",
          "name": "stderr",
          "text": [
            "/usr/local/lib/python3.10/dist-packages/sklearn/metrics/_classification.py:1344: UndefinedMetricWarning: Precision is ill-defined and being set to 0.0 in labels with no predicted samples. Use `zero_division` parameter to control this behavior.\n",
            "  _warn_prf(average, modifier, msg_start, len(result))\n"
          ]
        }
      ]
    },
    {
      "cell_type": "markdown",
      "source": [
        "**KNearestNeighbour**"
      ],
      "metadata": {
        "id": "2IJGKn4W_jQq"
      }
    },
    {
      "cell_type": "code",
      "source": [
        "mod5=knn_model.fit(x_train_mod,y_train_mod)\n",
        "y_pred5=knn_model.predict(x_test_mod)"
      ],
      "metadata": {
        "id": "L2-5ppDi_feq"
      },
      "execution_count": 21,
      "outputs": []
    },
    {
      "cell_type": "code",
      "source": [
        "acc5=accuracy_score(y_test_mod,y_pred5)\n",
        "pre5=precision_score(y_test_mod,y_pred5,average='macro')\n",
        "rec5=recall_score(y_test_mod,y_pred5,average='macro')\n",
        "f15=f1_score(y_test_mod,y_pred5,average='macro')\n",
        "print('accuracy score=',acc5,'precision score=',pre5,'recall score=',rec5,'f1 score=',f15)"
      ],
      "metadata": {
        "id": "LwYGH_cv_2Gx",
        "outputId": "15619465-93db-4adc-f1b4-5051eb531e59",
        "colab": {
          "base_uri": "https://localhost:8080/"
        }
      },
      "execution_count": 22,
      "outputs": [
        {
          "output_type": "stream",
          "name": "stdout",
          "text": [
            "accuracy score= 0.36205947136563876 precision score= 0.339493431041771 recall score= 0.34027508618419416 f1 score= 0.3261760569514562\n"
          ]
        }
      ]
    },
    {
      "cell_type": "markdown",
      "source": [
        "**Gaussian Naive Bayes**"
      ],
      "metadata": {
        "id": "XmQmXqH9AvbI"
      }
    },
    {
      "cell_type": "code",
      "source": [
        "mod6=naive_bayes_model.fit(x_train_mod.toarray(),y_train_mod)\n",
        "y_pred6=naive_bayes_model.predict(x_test_mod.toarray())"
      ],
      "metadata": {
        "id": "kvVHtDRNAr29"
      },
      "execution_count": 27,
      "outputs": []
    },
    {
      "cell_type": "code",
      "source": [
        "acc6=accuracy_score(y_test_mod,y_pred6)\n",
        "pre6=precision_score(y_test_mod,y_pred6,average='macro')\n",
        "rec6=recall_score(y_test_mod,y_pred6,average='macro')\n",
        "f16=f1_score(y_test_mod,y_pred6,average='macro')\n",
        "print('accuracy score=',acc6,'precision score=',pre6,'recall score=',rec6,'f1 score=',f16)"
      ],
      "metadata": {
        "id": "Wu0VOAhZBDLh",
        "outputId": "00b5c9f3-2d18-4359-c990-f9eb64896c8a",
        "colab": {
          "base_uri": "https://localhost:8080/"
        }
      },
      "execution_count": 28,
      "outputs": [
        {
          "output_type": "stream",
          "name": "stdout",
          "text": [
            "accuracy score= 0.40390969162995594 precision score= 0.22989365155882613 recall score= 0.3333581502542838 f1 score= 0.19207922257383814\n"
          ]
        },
        {
          "output_type": "stream",
          "name": "stderr",
          "text": [
            "/usr/local/lib/python3.10/dist-packages/sklearn/metrics/_classification.py:1344: UndefinedMetricWarning: Precision is ill-defined and being set to 0.0 in labels with no predicted samples. Use `zero_division` parameter to control this behavior.\n",
            "  _warn_prf(average, modifier, msg_start, len(result))\n"
          ]
        }
      ]
    },
    {
      "cell_type": "markdown",
      "source": [
        "**AdaBoost Classifier**"
      ],
      "metadata": {
        "id": "5ItAUo0tDX-N"
      }
    },
    {
      "cell_type": "code",
      "source": [
        "mod7=adaboost_model.fit(x_train_mod,y_train_mod)\n",
        "y_pred7=adaboost_model.predict(x_test_mod)"
      ],
      "metadata": {
        "id": "AhcBkvGAB3Vs"
      },
      "execution_count": 29,
      "outputs": []
    },
    {
      "cell_type": "code",
      "source": [
        "acc7=accuracy_score(y_test_mod,y_pred7)\n",
        "pre7=precision_score(y_test_mod,y_pred7,average='macro')\n",
        "rec7=recall_score(y_test_mod,y_pred7,average='macro')\n",
        "f17=f1_score(y_test_mod,y_pred7,average='macro')\n",
        "print('accuracy score=',acc7,'precision score=',pre7,'recall score=',rec7,'f1 score=',f17)"
      ],
      "metadata": {
        "id": "tJ4aDiR9D4nX",
        "outputId": "17439844-341b-460b-f208-db8584ef9cb5",
        "colab": {
          "base_uri": "https://localhost:8080/"
        }
      },
      "execution_count": 30,
      "outputs": [
        {
          "output_type": "stream",
          "name": "stdout",
          "text": [
            "accuracy score= 0.44514041850220265 precision score= 0.34689666939097047 recall score= 0.40210115791892515 f1 score= 0.3408601291077124\n"
          ]
        }
      ]
    },
    {
      "cell_type": "code",
      "source": [],
      "metadata": {
        "id": "9u7kZf1BELDD"
      },
      "execution_count": null,
      "outputs": []
    }
  ]
}