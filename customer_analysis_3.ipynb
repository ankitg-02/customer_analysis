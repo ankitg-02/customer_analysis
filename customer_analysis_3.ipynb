{
  "nbformat": 4,
  "nbformat_minor": 0,
  "metadata": {
    "colab": {
      "provenance": [],
      "authorship_tag": "ABX9TyPpeSP1C/J8O+eOVkCIr7HZ",
      "include_colab_link": true
    },
    "kernelspec": {
      "name": "python3",
      "display_name": "Python 3"
    },
    "language_info": {
      "name": "python"
    }
  },
  "cells": [
    {
      "cell_type": "markdown",
      "metadata": {
        "id": "view-in-github",
        "colab_type": "text"
      },
      "source": [
        "<a href=\"https://colab.research.google.com/github/ankitg-02/customer_analysis/blob/main/customer_analysis_3.ipynb\" target=\"_parent\"><img src=\"https://colab.research.google.com/assets/colab-badge.svg\" alt=\"Open In Colab\"/></a>"
      ]
    },
    {
      "cell_type": "code",
      "execution_count": 15,
      "metadata": {
        "id": "Qhu7xV8D8C9S"
      },
      "outputs": [],
      "source": [
        "import numpy as np\n",
        "import pandas as pd\n",
        "from sklearn.preprocessing import LabelEncoder\n",
        "from sklearn.preprocessing import OrdinalEncoder\n",
        "from sklearn.model_selection import train_test_split\n",
        "from sklearn.linear_model import LogisticRegression\n",
        "from sklearn.tree import DecisionTreeClassifier\n",
        "from sklearn.ensemble import RandomForestClassifier\n",
        "from sklearn.metrics import accuracy_score"
      ]
    },
    {
      "cell_type": "code",
      "source": [
        "#importing the dataset\n",
        "purchase=pd.read_csv(\"/content/QVI_purchase_behaviour.csv\")\n",
        "data=pd.DataFrame(purchase)\n",
        "le=LabelEncoder()\n",
        "oe=OrdinalEncoder()"
      ],
      "metadata": {
        "id": "79NA0v918SQ-"
      },
      "execution_count": 16,
      "outputs": []
    },
    {
      "cell_type": "code",
      "source": [
        "#split the dataset into train data and test data\n",
        "x=data['PREMIUM_CUSTOMER']\n",
        "y=data.drop(\"PREMIUM_CUSTOMER\",axis=1)\n",
        "y_mod=oe.fit_transform(y)\n",
        "x_mod=le.fit_transform(x)\n",
        "x_train,x_test,y_train,y_test=train_test_split(x_mod,y_mod,test_size=0.2,random_state=10,stratify=x)\n",
        "print(x.shape,x_train.shape,x_test.shape)"
      ],
      "metadata": {
        "colab": {
          "base_uri": "https://localhost:8080/"
        },
        "id": "4vDlRX6I81lv",
        "outputId": "9ccd542b-6d26-4871-dbc0-2d1f6b5b599d"
      },
      "execution_count": 17,
      "outputs": [
        {
          "output_type": "stream",
          "name": "stdout",
          "text": [
            "(72637,) (58109,) (14528,)\n"
          ]
        }
      ]
    },
    {
      "cell_type": "code",
      "source": [
        "# Initialize different models\n",
        "logistic_model = LogisticRegression()\n",
        "decision_tree_model = DecisionTreeClassifier()\n",
        "random_forest_model = RandomForestClassifier()"
      ],
      "metadata": {
        "id": "-OOH-R_7_06h"
      },
      "execution_count": 18,
      "outputs": []
    },
    {
      "cell_type": "code",
      "source": [
        "x_train_mod=x_train.reshape(1,-1)\n",
        "y_train_mod=y_train.reshape(1,-1)\n",
        "y_train_mod_1=y_train_mod.flatten()\n",
        "print(x_train_mod.shape,y_train_mod_1.shape)"
      ],
      "metadata": {
        "id": "CGyGOfPWQBGa",
        "outputId": "2e672ee4-6cc6-4ed4-c260-9d9847207cf0",
        "colab": {
          "base_uri": "https://localhost:8080/"
        }
      },
      "execution_count": 23,
      "outputs": [
        {
          "output_type": "stream",
          "name": "stdout",
          "text": [
            "(1, 58109) (116218,)\n"
          ]
        }
      ]
    },
    {
      "cell_type": "code",
      "source": [
        "y_transpose=y_train_mod_1.transpose()\n",
        "print(y_transpose.shape)"
      ],
      "metadata": {
        "id": "ecvjRJOFsMAh",
        "outputId": "365eff79-f9bf-4287-9b94-af8871434f6c",
        "colab": {
          "base_uri": "https://localhost:8080/"
        }
      },
      "execution_count": 20,
      "outputs": [
        {
          "output_type": "stream",
          "name": "stdout",
          "text": [
            "(116218,)\n"
          ]
        }
      ]
    },
    {
      "cell_type": "code",
      "source": [
        "# Train the models\n",
        "#logistic_model.fit(x_train_mod, y_train_mod_1)\n",
        "#decision_tree_model.fit(x_train_mod, y_train_mod_1)\n",
        "#random_forest_model.fit(x_train_mod, y_train_mod_1)"
      ],
      "metadata": {
        "id": "wxgH7efeKCGz"
      },
      "execution_count": 21,
      "outputs": []
    },
    {
      "cell_type": "code",
      "source": [],
      "metadata": {
        "id": "lS_dS8oBKFNW"
      },
      "execution_count": 21,
      "outputs": []
    }
  ]
}