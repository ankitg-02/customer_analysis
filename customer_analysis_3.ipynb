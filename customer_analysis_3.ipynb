{
  "nbformat": 4,
  "nbformat_minor": 0,
  "metadata": {
    "colab": {
      "provenance": [],
      "authorship_tag": "ABX9TyOek5/bZghypQWkpiRot9so",
      "include_colab_link": true
    },
    "kernelspec": {
      "name": "python3",
      "display_name": "Python 3"
    },
    "language_info": {
      "name": "python"
    }
  },
  "cells": [
    {
      "cell_type": "markdown",
      "metadata": {
        "id": "view-in-github",
        "colab_type": "text"
      },
      "source": [
        "<a href=\"https://colab.research.google.com/github/ankitg-02/customer_analysis/blob/main/customer_analysis_3.ipynb\" target=\"_parent\"><img src=\"https://colab.research.google.com/assets/colab-badge.svg\" alt=\"Open In Colab\"/></a>"
      ]
    },
    {
      "cell_type": "code",
      "execution_count": 29,
      "metadata": {
        "id": "Qhu7xV8D8C9S"
      },
      "outputs": [],
      "source": [
        "import numpy as np\n",
        "import pandas as pd\n",
        "from sklearn.preprocessing import LabelEncoder\n",
        "from sklearn.preprocessing import OneHotEncoder\n",
        "from sklearn.compose import ColumnTransformer\n",
        "from sklearn.model_selection import train_test_split\n",
        "from sklearn.linear_model import LogisticRegression\n",
        "from sklearn.tree import DecisionTreeClassifier\n",
        "from sklearn.ensemble import RandomForestClassifier\n",
        "from sklearn.metrics import accuracy_score"
      ]
    },
    {
      "cell_type": "code",
      "source": [
        "#importing the dataset\n",
        "purchase=pd.read_csv(\"/content/QVI_purchase_behaviour.csv\")\n",
        "data=pd.DataFrame(purchase)\n",
        "le=LabelEncoder()\n",
        "ohe=OneHotEncoder()"
      ],
      "metadata": {
        "id": "79NA0v918SQ-"
      },
      "execution_count": 2,
      "outputs": []
    },
    {
      "cell_type": "code",
      "source": [
        "#split the dataset into2 sub dataset which requires encoding\n",
        "x=data['PREMIUM_CUSTOMER']\n",
        "z=data.drop(columns=['PREMIUM_CUSTOMER'],axis=1)\n",
        "x_test,x_train,z_test,z_train=train_test_split(x,z,test_size=0.2,random_state=42)"
      ],
      "metadata": {
        "id": "4vDlRX6I81lv"
      },
      "execution_count": 18,
      "outputs": []
    },
    {
      "cell_type": "code",
      "source": [
        "#implementing onehotencoding on lifestage column\n",
        "z_train_ohe=ohe.fit_transform(z_train[['LIFESTAGE']]).toarray()\n",
        "z_test_ohe=ohe.fit_transform(z_test[['LIFESTAGE']]).toarray()"
      ],
      "metadata": {
        "id": "tiY5z_m4rBy8"
      },
      "execution_count": 26,
      "outputs": []
    },
    {
      "cell_type": "code",
      "source": [
        "#implementing labelencodring on premium column\n",
        "x_train_le=le.fit_transform(x_train)\n",
        "x_test_le=le.fit_transform(x_test)"
      ],
      "metadata": {
        "id": "IpAASBqjzT3W"
      },
      "execution_count": 28,
      "outputs": []
    },
    {
      "cell_type": "code",
      "source": [
        "# Initialize different models\n",
        "#logistic_model = LogisticRegression()\n",
        "#decision_tree_model = DecisionTreeClassifier()\n",
        "#random_forest_model = RandomForestClassifier()"
      ],
      "metadata": {
        "id": "-OOH-R_7_06h"
      },
      "execution_count": null,
      "outputs": []
    },
    {
      "cell_type": "code",
      "source": [
        "#x_train_mod=x_train.reshape(1,-1)\n",
        "#y_train_mod=y_train.reshape(1,-1)\n",
        "#print(x_train_mod.shape,y_train_mod.shape)"
      ],
      "metadata": {
        "id": "CGyGOfPWQBGa"
      },
      "execution_count": 27,
      "outputs": []
    },
    {
      "cell_type": "code",
      "source": [
        "#y_transpose=y_train_mod.transpose()\n",
        "#print(y_transpose.shape)"
      ],
      "metadata": {
        "id": "ecvjRJOFsMAh"
      },
      "execution_count": null,
      "outputs": []
    },
    {
      "cell_type": "code",
      "source": [
        "# Train the models\n",
        "#logistic_model.fit(x_train_mod, y_train_mod_1)\n",
        "#decision_tree_model.fit(x_train_mod, y_train_mod_1)\n",
        "#random_forest_model.fit(x_train_mod, y_train_mod_1)"
      ],
      "metadata": {
        "id": "wxgH7efeKCGz"
      },
      "execution_count": null,
      "outputs": []
    },
    {
      "cell_type": "code",
      "source": [],
      "metadata": {
        "id": "lS_dS8oBKFNW"
      },
      "execution_count": null,
      "outputs": []
    }
  ]
}