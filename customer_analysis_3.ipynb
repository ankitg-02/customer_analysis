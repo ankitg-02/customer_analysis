{
  "nbformat": 4,
  "nbformat_minor": 0,
  "metadata": {
    "colab": {
      "provenance": [],
      "authorship_tag": "ABX9TyMm4ydNZ4tEnxWTsJMzas1s",
      "include_colab_link": true
    },
    "kernelspec": {
      "name": "python3",
      "display_name": "Python 3"
    },
    "language_info": {
      "name": "python"
    }
  },
  "cells": [
    {
      "cell_type": "markdown",
      "metadata": {
        "id": "view-in-github",
        "colab_type": "text"
      },
      "source": [
        "<a href=\"https://colab.research.google.com/github/ankitg-02/customer_analysis/blob/main/customer_analysis_3.ipynb\" target=\"_parent\"><img src=\"https://colab.research.google.com/assets/colab-badge.svg\" alt=\"Open In Colab\"/></a>"
      ]
    },
    {
      "cell_type": "code",
      "execution_count": 10,
      "metadata": {
        "id": "Qhu7xV8D8C9S"
      },
      "outputs": [],
      "source": [
        "import numpy as np\n",
        "import pandas as pd\n",
        "from sklearn.preprocessing import LabelEncoder\n",
        "from sklearn.preprocessing import OrdinalEncoder\n",
        "from sklearn.model_selection import train_test_split\n",
        "from sklearn.linear_model import LogisticRegression\n",
        "from sklearn.tree import DecisionTreeClassifier\n",
        "from sklearn.ensemble import RandomForestClassifier\n",
        "from sklearn.metrics import accuracy_score"
      ]
    },
    {
      "cell_type": "code",
      "source": [
        "#importing the dataset\n",
        "purchase=pd.read_csv(\"/content/QVI_purchase_behaviour.csv\")\n",
        "data=pd.DataFrame(purchase)\n",
        "le=LabelEncoder()\n",
        "oe=OrdinalEncoder()"
      ],
      "metadata": {
        "id": "79NA0v918SQ-"
      },
      "execution_count": 11,
      "outputs": []
    },
    {
      "cell_type": "code",
      "source": [
        "#split the dataset into train data and test data\n",
        "x=data['PREMIUM_CUSTOMER']\n",
        "y=data.drop(\"PREMIUM_CUSTOMER\",axis=1)\n",
        "y_mod=oe.fit_transform(y)\n",
        "x_mod=le.fit_transform(x)\n",
        "x_train,x_test,y_train,y_test=train_test_split(x_mod,y_mod,test_size=0.2,random_state=10,stratify=x)\n",
        "print(x.shape,x_train.shape,x_test.shape)\n",
        "print(y.shape,y_train.shape,y_test.shape)"
      ],
      "metadata": {
        "colab": {
          "base_uri": "https://localhost:8080/"
        },
        "id": "4vDlRX6I81lv",
        "outputId": "c3b2a835-b96c-4bfb-a721-06740f56c4da"
      },
      "execution_count": 12,
      "outputs": [
        {
          "output_type": "stream",
          "name": "stdout",
          "text": [
            "(72637,) (58109,) (14528,)\n",
            "(72637, 2) (58109, 2) (14528, 2)\n"
          ]
        }
      ]
    },
    {
      "cell_type": "code",
      "source": [
        "# Initialize different models\n",
        "logistic_model = LogisticRegression()\n",
        "decision_tree_model = DecisionTreeClassifier()\n",
        "random_forest_model = RandomForestClassifier()"
      ],
      "metadata": {
        "id": "-OOH-R_7_06h"
      },
      "execution_count": 4,
      "outputs": []
    },
    {
      "cell_type": "code",
      "source": [
        "x_train_mod=x_train.reshape(1,-1)\n",
        "y_train_mod=y_train.reshape(1,-1)\n",
        "print(x_train_mod.shape,y_train_mod.shape)"
      ],
      "metadata": {
        "id": "CGyGOfPWQBGa",
        "outputId": "208fc326-1081-4141-9854-ee779d10f7d2",
        "colab": {
          "base_uri": "https://localhost:8080/"
        }
      },
      "execution_count": 13,
      "outputs": [
        {
          "output_type": "stream",
          "name": "stdout",
          "text": [
            "(1, 58109) (1, 116218)\n"
          ]
        }
      ]
    },
    {
      "cell_type": "code",
      "source": [
        "y_transpose=y_train_mod.transpose()\n",
        "print(y_transpose.shape)"
      ],
      "metadata": {
        "id": "ecvjRJOFsMAh",
        "outputId": "07863983-0a4e-48fe-e98d-afbe707b3849",
        "colab": {
          "base_uri": "https://localhost:8080/"
        }
      },
      "execution_count": 14,
      "outputs": [
        {
          "output_type": "stream",
          "name": "stdout",
          "text": [
            "(116218, 1)\n"
          ]
        }
      ]
    },
    {
      "cell_type": "code",
      "source": [
        "# Train the models\n",
        "#logistic_model.fit(x_train_mod, y_train_mod_1)\n",
        "#decision_tree_model.fit(x_train_mod, y_train_mod_1)\n",
        "#random_forest_model.fit(x_train_mod, y_train_mod_1)"
      ],
      "metadata": {
        "id": "wxgH7efeKCGz"
      },
      "execution_count": 15,
      "outputs": []
    },
    {
      "cell_type": "code",
      "source": [],
      "metadata": {
        "id": "lS_dS8oBKFNW"
      },
      "execution_count": null,
      "outputs": []
    }
  ]
}