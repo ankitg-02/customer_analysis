{
  "nbformat": 4,
  "nbformat_minor": 0,
  "metadata": {
    "colab": {
      "provenance": [],
      "authorship_tag": "ABX9TyNvDZtA93zLhxlsn2Cp4FtV",
      "include_colab_link": true
    },
    "kernelspec": {
      "name": "python3",
      "display_name": "Python 3"
    },
    "language_info": {
      "name": "python"
    }
  },
  "cells": [
    {
      "cell_type": "markdown",
      "metadata": {
        "id": "view-in-github",
        "colab_type": "text"
      },
      "source": [
        "<a href=\"https://colab.research.google.com/github/ankitg-02/customer_analysis/blob/main/customer_analysis_3.ipynb\" target=\"_parent\"><img src=\"https://colab.research.google.com/assets/colab-badge.svg\" alt=\"Open In Colab\"/></a>"
      ]
    },
    {
      "cell_type": "code",
      "execution_count": 23,
      "metadata": {
        "id": "Qhu7xV8D8C9S"
      },
      "outputs": [],
      "source": [
        "import numpy as np\n",
        "import pandas as pd\n",
        "from matplotlib import pyplot as plt\n",
        "import seaborn as sns\n",
        "from sklearn.preprocessing import LabelEncoder\n",
        "from sklearn.preprocessing import OneHotEncoder\n",
        "from sklearn.compose import ColumnTransformer\n",
        "from sklearn.model_selection import train_test_split\n",
        "from sklearn.linear_model import LogisticRegression\n",
        "from sklearn.tree import DecisionTreeClassifier\n",
        "from sklearn.ensemble import RandomForestClassifier\n",
        "from sklearn.metrics import accuracy_score"
      ]
    },
    {
      "cell_type": "code",
      "source": [
        "#importing the dataset\n",
        "purchase=pd.read_csv(r\"/content/QVI_purchase_behaviour.csv\")\n",
        "data=pd.DataFrame(purchase)\n"
      ],
      "metadata": {
        "id": "79NA0v918SQ-"
      },
      "execution_count": 25,
      "outputs": []
    },
    {
      "cell_type": "code",
      "source": [
        "le=LabelEncoder()\n",
        "ohe=OneHotEncoder()"
      ],
      "metadata": {
        "id": "keXXqDKSgvr6"
      },
      "execution_count": 26,
      "outputs": []
    },
    {
      "cell_type": "code",
      "source": [
        "x_train,x_test,y_train,y_test=train_test_split(data.drop('PREMIUM_CUSTOMER',axis=1),data['PREMIUM_CUSTOMER'],test_size=0.2,random_state=42)"
      ],
      "metadata": {
        "id": "NgA2dAHHXgbR"
      },
      "execution_count": 3,
      "outputs": []
    },
    {
      "cell_type": "code",
      "source": [
        "transformer=ColumnTransformer(transformers=[('encoder',ohe,['LIFESTAGE'])],remainder='passthrough')"
      ],
      "metadata": {
        "id": "IGPj_JpzX3Ai"
      },
      "execution_count": 4,
      "outputs": []
    },
    {
      "cell_type": "code",
      "source": [
        "x_train_mod=transformer.fit_transform(x_train)\n",
        "x_test_mod=transformer.transform(x_test)"
      ],
      "metadata": {
        "id": "ZUnb-1MtaEYG"
      },
      "execution_count": 11,
      "outputs": []
    },
    {
      "cell_type": "code",
      "source": [
        "y_train_mod=le.fit_transform(y_train)\n",
        "y_test_mod=le.transform(y_test)"
      ],
      "metadata": {
        "id": "6uBH6-Iycclx"
      },
      "execution_count": 12,
      "outputs": []
    },
    {
      "cell_type": "code",
      "source": [
        "# Initialize different models\n",
        "logistic_model = LogisticRegression()\n",
        "decision_tree_model = DecisionTreeClassifier()\n",
        "random_forest_model = RandomForestClassifier()"
      ],
      "metadata": {
        "id": "-OOH-R_7_06h"
      },
      "execution_count": 6,
      "outputs": []
    },
    {
      "cell_type": "code",
      "source": [
        "mod1=logistic_model.fit(x_train_mod,y_train_mod)\n",
        "mod2=decision_tree_model.fit(x_train_mod,y_train_mod)\n",
        "mod3=random_forest_model.fit(x_train_mod,y_train_mod)"
      ],
      "metadata": {
        "id": "ODonthc5doga"
      },
      "execution_count": 16,
      "outputs": []
    },
    {
      "cell_type": "code",
      "source": [
        "y_pred1=logistic_model.predict(x_test_mod)\n",
        "y_pred2=decision_tree_model.predict(x_test_mod)\n",
        "y_pred3=random_forest_model.predict(x_test_mod)"
      ],
      "metadata": {
        "id": "U0cWfbUXcsIQ"
      },
      "execution_count": 17,
      "outputs": []
    },
    {
      "cell_type": "markdown",
      "source": [
        "**Logistic Regression**"
      ],
      "metadata": {
        "id": "wryZymWXe-qW"
      }
    },
    {
      "cell_type": "code",
      "source": [
        "mod1=logistic_model.fit(x_train_mod,y_train_mod)\n",
        "y_pred1=logistic_model.predict(x_test_mod)"
      ],
      "metadata": {
        "id": "KrQ6dWDcfFKI"
      },
      "execution_count": 21,
      "outputs": []
    },
    {
      "cell_type": "code",
      "source": [],
      "metadata": {
        "id": "4wlFLvZmfLo0"
      },
      "execution_count": null,
      "outputs": []
    },
    {
      "cell_type": "markdown",
      "source": [
        "**DecissionTree**"
      ],
      "metadata": {
        "id": "JtLP41PUfNQ-"
      }
    },
    {
      "cell_type": "code",
      "source": [
        "mod2=decision_tree_model.fit(x_train_mod,y_train_mod)\n",
        "y_pred2=decision_tree_model.predict(x_test_mod)"
      ],
      "metadata": {
        "id": "K70XzEfafSsC"
      },
      "execution_count": null,
      "outputs": []
    },
    {
      "cell_type": "markdown",
      "source": [
        "**RandomForest**"
      ],
      "metadata": {
        "id": "C55ANIqufYj-"
      }
    },
    {
      "cell_type": "code",
      "source": [
        "mod3=random_forest_model.fit(x_train_mod,y_train_mod)\n",
        "y_pred3=random_forest_model.predict(x_test_mod)"
      ],
      "metadata": {
        "id": "bsqd5AD1fdE_"
      },
      "execution_count": 22,
      "outputs": []
    },
    {
      "cell_type": "code",
      "source": [],
      "metadata": {
        "id": "gKUlj-sdfhuB"
      },
      "execution_count": null,
      "outputs": []
    }
  ]
}