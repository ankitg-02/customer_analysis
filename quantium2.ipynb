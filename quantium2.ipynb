{
  "nbformat": 4,
  "nbformat_minor": 0,
  "metadata": {
    "colab": {
      "provenance": [],
      "authorship_tag": "ABX9TyPBtinowP9livtJHOu3+2kv",
      "include_colab_link": true
    },
    "kernelspec": {
      "name": "python3",
      "display_name": "Python 3"
    },
    "language_info": {
      "name": "python"
    }
  },
  "cells": [
    {
      "cell_type": "markdown",
      "metadata": {
        "id": "view-in-github",
        "colab_type": "text"
      },
      "source": [
        "<a href=\"https://colab.research.google.com/github/ankitg-02/customer_analysis/blob/main/quantium2.ipynb\" target=\"_parent\"><img src=\"https://colab.research.google.com/assets/colab-badge.svg\" alt=\"Open In Colab\"/></a>"
      ]
    },
    {
      "cell_type": "code",
      "execution_count": 2,
      "metadata": {
        "id": "aH_txT_9qt8n"
      },
      "outputs": [],
      "source": [
        "import pandas as pd\n",
        "import numpy as np\n",
        "import matplotlib.pyplot as plt\n"
      ]
    },
    {
      "cell_type": "code",
      "source": [
        "#importing data from QVI_data.csv file\n",
        "QVI=pd.read_csv(\"/content/QVI_data.csv\")\n",
        "QVI_data=pd.DataFrame(QVI)\n",
        "print(QVI_data)"
      ],
      "metadata": {
        "colab": {
          "base_uri": "https://localhost:8080/"
        },
        "id": "80d3h_Uyq0OX",
        "outputId": "8dd75b48-41ed-44e3-8038-d7a9b92cfe4b"
      },
      "execution_count": 3,
      "outputs": [
        {
          "output_type": "stream",
          "name": "stdout",
          "text": [
            "        LYLTY_CARD_NBR        DATE  STORE_NBR  TXN_ID  PROD_NBR  \\\n",
            "0                 1000  2018-10-17          1       1         5   \n",
            "1                 1002  2018-09-16          1       2        58   \n",
            "2                 1003  2019-03-07          1       3        52   \n",
            "3                 1003  2019-03-08          1       4       106   \n",
            "4                 1004  2018-11-02          1       5        96   \n",
            "...                ...         ...        ...     ...       ...   \n",
            "264829         2370701  2018-12-08         88  240378        24   \n",
            "264830         2370751  2018-10-01         88  240394        60   \n",
            "264831         2370961  2018-10-24         88  240480        70   \n",
            "264832         2370961  2018-10-27         88  240481        65   \n",
            "264833         2373711  2018-12-14         88  241815        16   \n",
            "\n",
            "                                       PROD_NAME  PROD_QTY  TOT_SALES  \\\n",
            "0         Natural Chip        Compny SeaSalt175g         2        6.0   \n",
            "1          Red Rock Deli Chikn&Garlic Aioli 150g         1        2.7   \n",
            "2          Grain Waves Sour    Cream&Chives 210G         1        3.6   \n",
            "3         Natural ChipCo      Hony Soy Chckn175g         1        3.0   \n",
            "4                 WW Original Stacked Chips 160g         1        1.9   \n",
            "...                                          ...       ...        ...   \n",
            "264829     Grain Waves         Sweet Chilli 210g         2        7.2   \n",
            "264830      Kettle Tortilla ChpsFeta&Garlic 150g         2        9.2   \n",
            "264831   Tyrrells Crisps     Lightly Salted 165g         2        8.4   \n",
            "264832  Old El Paso Salsa   Dip Chnky Tom Ht300g         2       10.2   \n",
            "264833  Smiths Crinkle Chips Salt & Vinegar 330g         2       11.4   \n",
            "\n",
            "        PACK_SIZE       BRAND              LIFESTAGE PREMIUM_CUSTOMER  \n",
            "0             175     NATURAL  YOUNG SINGLES/COUPLES          Premium  \n",
            "1             150         RRD  YOUNG SINGLES/COUPLES       Mainstream  \n",
            "2             210     GRNWVES         YOUNG FAMILIES           Budget  \n",
            "3             175     NATURAL         YOUNG FAMILIES           Budget  \n",
            "4             160  WOOLWORTHS  OLDER SINGLES/COUPLES       Mainstream  \n",
            "...           ...         ...                    ...              ...  \n",
            "264829        210     GRNWVES         YOUNG FAMILIES       Mainstream  \n",
            "264830        150      KETTLE         YOUNG FAMILIES          Premium  \n",
            "264831        165    TYRRELLS         OLDER FAMILIES           Budget  \n",
            "264832        300         OLD         OLDER FAMILIES           Budget  \n",
            "264833        330      SMITHS  YOUNG SINGLES/COUPLES       Mainstream  \n",
            "\n",
            "[264834 rows x 12 columns]\n"
          ]
        }
      ]
    },
    {
      "cell_type": "code",
      "source": [
        "# store no.=77\n",
        "#total sales from the QVI_data file\n",
        "store_77=pd.read_csv(\"/content/QVI_data_77.csv\")\n",
        "QVI_data_77=pd.DataFrame(store_77)\n",
        "total_sales_77=0\n",
        "total_customer_77=0\n",
        "for i in QVI_data_77['STORE_NBR']:\n",
        "    total_customer_77+=1\n",
        "for i in QVI_data_77['TOT_SALES']:\n",
        "  total_sales_77=total_sales_77+i\n",
        "average_transcation_77=total_sales_77/total_customer_77\n",
        "print(\"Total sales of store 77=\",total_sales_77)\n",
        "print(\"Total customers for store 77=\",total_customer_77)\n",
        "print(\"Average transcation per customer for store 77=\",average_transcation_77)"
      ],
      "metadata": {
        "colab": {
          "base_uri": "https://localhost:8080/"
        },
        "id": "ru2gPjzJsEsA",
        "outputId": "f0318a6f-0638-4c7a-9226-cc9701ed1e97"
      },
      "execution_count": 17,
      "outputs": [
        {
          "output_type": "stream",
          "name": "stdout",
          "text": [
            "Total sales of store 77= nan\n",
            "Total customers for store 77= 135412\n",
            "Average transcation per customer for store 77= nan\n"
          ]
        }
      ]
    },
    {
      "cell_type": "code",
      "source": [],
      "metadata": {
        "id": "ee9JovYtt0QZ"
      },
      "execution_count": null,
      "outputs": []
    }
  ]
}