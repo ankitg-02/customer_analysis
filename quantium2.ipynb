{
  "nbformat": 4,
  "nbformat_minor": 0,
  "metadata": {
    "colab": {
      "provenance": [],
      "authorship_tag": "ABX9TyNka7rJJ1Yyx+nlzA6CZUnm",
      "include_colab_link": true
    },
    "kernelspec": {
      "name": "python3",
      "display_name": "Python 3"
    },
    "language_info": {
      "name": "python"
    }
  },
  "cells": [
    {
      "cell_type": "markdown",
      "metadata": {
        "id": "view-in-github",
        "colab_type": "text"
      },
      "source": [
        "<a href=\"https://colab.research.google.com/github/ankitg-02/customer_analysis/blob/main/quantium2.ipynb\" target=\"_parent\"><img src=\"https://colab.research.google.com/assets/colab-badge.svg\" alt=\"Open In Colab\"/></a>"
      ]
    },
    {
      "cell_type": "code",
      "execution_count": 1,
      "metadata": {
        "id": "aH_txT_9qt8n"
      },
      "outputs": [],
      "source": [
        "import pandas as pd\n",
        "import numpy as np\n",
        "import matplotlib.pyplot as plt\n"
      ]
    },
    {
      "cell_type": "code",
      "source": [
        "#importing data from QVI_data.csv file\n",
        "QVI=pd.read_csv(\"/content/QVI_data.csv\")\n",
        "QVI_data=pd.DataFrame(QVI)\n",
        "print(QVI_data)"
      ],
      "metadata": {
        "colab": {
          "base_uri": "https://localhost:8080/"
        },
        "id": "80d3h_Uyq0OX",
        "outputId": "941c25dc-17b9-45a4-d1ae-35e10f410309"
      },
      "execution_count": 2,
      "outputs": [
        {
          "output_type": "stream",
          "name": "stdout",
          "text": [
            "        LYLTY_CARD_NBR        DATE  STORE_NBR  TXN_ID  PROD_NBR  \\\n",
            "0                 1000  2018-10-17          1       1         5   \n",
            "1                 1002  2018-09-16          1       2        58   \n",
            "2                 1003  2019-03-07          1       3        52   \n",
            "3                 1003  2019-03-08          1       4       106   \n",
            "4                 1004  2018-11-02          1       5        96   \n",
            "...                ...         ...        ...     ...       ...   \n",
            "264829         2370701  2018-12-08         88  240378        24   \n",
            "264830         2370751  2018-10-01         88  240394        60   \n",
            "264831         2370961  2018-10-24         88  240480        70   \n",
            "264832         2370961  2018-10-27         88  240481        65   \n",
            "264833         2373711  2018-12-14         88  241815        16   \n",
            "\n",
            "                                       PROD_NAME  PROD_QTY  TOT_SALES  \\\n",
            "0         Natural Chip        Compny SeaSalt175g         2        6.0   \n",
            "1          Red Rock Deli Chikn&Garlic Aioli 150g         1        2.7   \n",
            "2          Grain Waves Sour    Cream&Chives 210G         1        3.6   \n",
            "3         Natural ChipCo      Hony Soy Chckn175g         1        3.0   \n",
            "4                 WW Original Stacked Chips 160g         1        1.9   \n",
            "...                                          ...       ...        ...   \n",
            "264829     Grain Waves         Sweet Chilli 210g         2        7.2   \n",
            "264830      Kettle Tortilla ChpsFeta&Garlic 150g         2        9.2   \n",
            "264831   Tyrrells Crisps     Lightly Salted 165g         2        8.4   \n",
            "264832  Old El Paso Salsa   Dip Chnky Tom Ht300g         2       10.2   \n",
            "264833  Smiths Crinkle Chips Salt & Vinegar 330g         2       11.4   \n",
            "\n",
            "        PACK_SIZE       BRAND              LIFESTAGE PREMIUM_CUSTOMER  \n",
            "0             175     NATURAL  YOUNG SINGLES/COUPLES          Premium  \n",
            "1             150         RRD  YOUNG SINGLES/COUPLES       Mainstream  \n",
            "2             210     GRNWVES         YOUNG FAMILIES           Budget  \n",
            "3             175     NATURAL         YOUNG FAMILIES           Budget  \n",
            "4             160  WOOLWORTHS  OLDER SINGLES/COUPLES       Mainstream  \n",
            "...           ...         ...                    ...              ...  \n",
            "264829        210     GRNWVES         YOUNG FAMILIES       Mainstream  \n",
            "264830        150      KETTLE         YOUNG FAMILIES          Premium  \n",
            "264831        165    TYRRELLS         OLDER FAMILIES           Budget  \n",
            "264832        300         OLD         OLDER FAMILIES           Budget  \n",
            "264833        330      SMITHS  YOUNG SINGLES/COUPLES       Mainstream  \n",
            "\n",
            "[264834 rows x 12 columns]\n"
          ]
        }
      ]
    },
    {
      "cell_type": "code",
      "source": [
        "#details for store no=77\n",
        "total_customer_77=0\n",
        "for i in QVI_data['STORE_NBR']:\n",
        "  if i==77:\n",
        "    total_customer_77+=1\n",
        "print(\"total customers for store no. 77=\",total_customer_77)\n",
        "store=QVI_data.groupby(\"STORE_NBR\")\n",
        "store_77_details=store.get_group(77)\n",
        "store_77= pd.DataFrame(store_77_details)\n",
        "total_sales_77=0\n",
        "for i in store_77['TOT_SALES']:\n",
        "  total_sales_77+=i\n",
        "avg_77=total_sales_77/total_customer_77\n",
        "print(\"total sales for store no. 77=\",total_sales_77)\n",
        "print(\"average sales for each customer for store 77=\",avg_77)"
      ],
      "metadata": {
        "id": "ee9JovYtt0QZ",
        "outputId": "ffb23f6b-931b-4653-c561-2f59d9763e26",
        "colab": {
          "base_uri": "https://localhost:8080/"
        }
      },
      "execution_count": 12,
      "outputs": [
        {
          "output_type": "stream",
          "name": "stdout",
          "text": [
            "total customers for store no. 77= 563\n",
            "total sales for store no. 77= 3040.0000000000005\n",
            "average sales for each customer for store 77= 5.399644760213144\n"
          ]
        }
      ]
    },
    {
      "cell_type": "code",
      "source": [
        "#details for store no=86\n",
        "total_customer_86=0\n",
        "for i in QVI_data['STORE_NBR']:\n",
        "  if i==86:\n",
        "    total_customer_86+=1\n",
        "print(\"total customers for store no. 86=\",total_customer_86)\n",
        "store_86_details=store.get_group(86)\n",
        "store_86= pd.DataFrame(store_86_details)\n",
        "total_sales_86=0\n",
        "for i in store_86['TOT_SALES']:\n",
        "  total_sales_86+=i\n",
        "avg_86=total_sales_86/total_customer_86\n",
        "print(\"total sales for store no. 86=\",total_sales_86)\n",
        "print(\"average sales for each customer for store 86=\",avg_86)"
      ],
      "metadata": {
        "id": "8sLx73zPP5Jh",
        "outputId": "45d855eb-248b-4b4d-b8c7-f0bd25e02462",
        "colab": {
          "base_uri": "https://localhost:8080/"
        }
      },
      "execution_count": 13,
      "outputs": [
        {
          "output_type": "stream",
          "name": "stdout",
          "text": [
            "total customers for store no. 86= 1538\n",
            "total sales for store no. 86= 10635.349999999973\n",
            "average sales for each customer for store 86= 6.9150520156046635\n"
          ]
        }
      ]
    },
    {
      "cell_type": "code",
      "source": [
        "#details for store no=88\n",
        "total_customer_88=0\n",
        "for i in QVI_data['STORE_NBR']:\n",
        "  if i==88:\n",
        "    total_customer_88+=1\n",
        "print(\"total customers for store no. 88=\",total_customer_88)\n",
        "store_88_details=store.get_group(88)\n",
        "store_88= pd.DataFrame(store_88_details)\n",
        "total_sales_88=0\n",
        "for i in store_88['TOT_SALES']:\n",
        "  total_sales_88+=i\n",
        "avg_88=total_sales_88/total_customer_88\n",
        "print(\"total sales for store no. 88=\",total_sales_88)\n",
        "print(\"average sales for each customer for store 88=\",avg_88)\n"
      ],
      "metadata": {
        "id": "FGxLQP7KQBjm",
        "outputId": "2ff5eba1-d560-49a4-cd67-1ddff0e634a6",
        "colab": {
          "base_uri": "https://localhost:8080/"
        }
      },
      "execution_count": 14,
      "outputs": [
        {
          "output_type": "stream",
          "name": "stdout",
          "text": [
            "total customers for store no. 88= 1873\n",
            "total sales for store no. 88= 16333.249999999965\n",
            "average sales for each customer for store 88= 8.720368392952464\n"
          ]
        }
      ]
    },
    {
      "cell_type": "code",
      "source": [],
      "metadata": {
        "id": "YPzDJWmpQXOS"
      },
      "execution_count": null,
      "outputs": []
    }
  ]
}