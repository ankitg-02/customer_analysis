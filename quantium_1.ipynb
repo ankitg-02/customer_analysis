{
  "nbformat": 4,
  "nbformat_minor": 0,
  "metadata": {
    "colab": {
      "provenance": [],
      "authorship_tag": "ABX9TyMs/G9aLe3AGFIXLLqlfqkl",
      "include_colab_link": true
    },
    "kernelspec": {
      "name": "python3",
      "display_name": "Python 3"
    },
    "language_info": {
      "name": "python"
    }
  },
  "cells": [
    {
      "cell_type": "markdown",
      "metadata": {
        "id": "view-in-github",
        "colab_type": "text"
      },
      "source": [
        "<a href=\"https://colab.research.google.com/github/ankitg-02/customer_analysis/blob/main/quantium_1.ipynb\" target=\"_parent\"><img src=\"https://colab.research.google.com/assets/colab-badge.svg\" alt=\"Open In Colab\"/></a>"
      ]
    },
    {
      "cell_type": "code",
      "execution_count": 1,
      "metadata": {
        "id": "glr7hgv6odni"
      },
      "outputs": [],
      "source": [
        "import pandas as pd\n",
        "import numpy as np\n",
        "import matplotlib.pyplot as plt\n"
      ]
    },
    {
      "cell_type": "code",
      "source": [
        "#importing data from transaction excelsheet\n",
        "transaction=pd.read_excel(\"/content/QVI_transaction_data.xlsx\")\n",
        "#importing data from puchase behaviour csv file\n",
        "purchase_behaviour=pd.read_csv(\"/content/QVI_purchase_behaviour.csv\")"
      ],
      "metadata": {
        "id": "y3aO6Is5pCjq"
      },
      "execution_count": 2,
      "outputs": []
    },
    {
      "cell_type": "code",
      "source": [
        "#dataset for the transaction\n",
        "transaction_data=pd.DataFrame(transaction)\n",
        "print(transaction_data)\n"
      ],
      "metadata": {
        "id": "uaeGmgBPpeCE",
        "outputId": "4e1c4122-0c83-4a69-cbb7-e41639de087f",
        "colab": {
          "base_uri": "https://localhost:8080/"
        }
      },
      "execution_count": 3,
      "outputs": [
        {
          "output_type": "stream",
          "name": "stdout",
          "text": [
            "         DATE  STORE_NBR  LYLTY_CARD_NBR  TXN_ID  PROD_NBR  \\\n",
            "0       43390          1            1000       1         5   \n",
            "1       43599          1            1307     348        66   \n",
            "2       43605          1            1343     383        61   \n",
            "3       43329          2            2373     974        69   \n",
            "4       43330          2            2426    1038       108   \n",
            "...       ...        ...             ...     ...       ...   \n",
            "264831  43533        272          272319  270088        89   \n",
            "264832  43325        272          272358  270154        74   \n",
            "264833  43410        272          272379  270187        51   \n",
            "264834  43461        272          272379  270188        42   \n",
            "264835  43365        272          272380  270189        74   \n",
            "\n",
            "                                       PROD_NAME  PROD_QTY  TOT_SALES  \n",
            "0         Natural Chip        Compny SeaSalt175g         2        6.0  \n",
            "1                       CCs Nacho Cheese    175g         3        6.3  \n",
            "2         Smiths Crinkle Cut  Chips Chicken 170g         2        2.9  \n",
            "3         Smiths Chip Thinly  S/Cream&Onion 175g         5       15.0  \n",
            "4       Kettle Tortilla ChpsHny&Jlpno Chili 150g         3       13.8  \n",
            "...                                          ...       ...        ...  \n",
            "264831   Kettle Sweet Chilli And Sour Cream 175g         2       10.8  \n",
            "264832             Tostitos Splash Of  Lime 175g         1        4.4  \n",
            "264833                  Doritos Mexicana    170g         2        8.8  \n",
            "264834   Doritos Corn Chip Mexican Jalapeno 150g         2        7.8  \n",
            "264835             Tostitos Splash Of  Lime 175g         2        8.8  \n",
            "\n",
            "[264836 rows x 8 columns]\n"
          ]
        }
      ]
    },
    {
      "cell_type": "code",
      "source": [
        "print(transaction_data[\"TOT_SALES\"].count())"
      ],
      "metadata": {
        "id": "qipX1lZtqtgd",
        "outputId": "7408f8a8-d16d-4adf-de55-c589e1158d05",
        "colab": {
          "base_uri": "https://localhost:8080/"
        }
      },
      "execution_count": 4,
      "outputs": [
        {
          "output_type": "stream",
          "name": "stdout",
          "text": [
            "264836\n"
          ]
        }
      ]
    },
    {
      "cell_type": "code",
      "source": [
        "#Company Name=\"Cobs\"\n",
        "# count of chips item in prod_name=Cobs Popd Sea Salt Chips 110g column in transaction data\n",
        "count_for_chips_1=0\n",
        "for i in transaction_data[\"PROD_NAME\"]:\n",
        "  if i==\"Cobs Popd Sea Salt  Chips 110g\" :\n",
        "    count_for_chips_1+=1\n",
        "# count of chips item in prod_name=Cobs Popd Sour Crm &Chives Chips 110g column in transaction data\n",
        "count_for_chips_2=0\n",
        "for i in transaction_data[\"PROD_NAME\"]:\n",
        "  if i==\"Cobs Popd Sour Crm  &Chives Chips 110g\":\n",
        "    count_for_chips_2+=1\n",
        "# count of chips item in prod_name=Cobs Popd Swt/Chlli &Sr/Cream Chips 110g column in transaction data\n",
        "count_for_chips_3=0\n",
        "for i in transaction_data[\"PROD_NAME\"]:\n",
        "  if i==\"Cobs Popd Swt/Chlli &Sr/Cream Chips 110g\":\n",
        "    count_for_chips_3+=1\n",
        "count_for_Cobs=count_for_chips_1+count_for_chips_2+count_for_chips_3\n",
        "print(\"count for Cobs chips=\",count_for_Cobs)\n",
        "\n",
        "#Company Name=\"Doritos\"\n",
        "# count of chips item in prod_name=Doritos Corn Chips  Cheese Supreme 170g column in transaction data\n",
        "count_for_chips_4=0\n",
        "for i in transaction_data[\"PROD_NAME\"]:\n",
        "  if i==\"Doritos Corn Chips  Cheese Supreme 170g\":\n",
        "    count_for_chips_4+=1\n",
        "# count of chips item in prod_name=Doritos Corn Chips  Nacho Cheese 170g column in transaction data\n",
        "count_for_chips_5=0\n",
        "for i in transaction_data[\"PROD_NAME\"]:\n",
        "  if i==\"Doritos Corn Chips  Nacho Cheese 170g\":\n",
        "    count_for_chips_5+=1\n",
        "# count of chips item in prod_name=Doritos Corn Chips  Original 170g column in transaction data\n",
        "count_for_chips_6=0\n",
        "for i in transaction_data[\"PROD_NAME\"]:\n",
        "  if i==\"Doritos Corn Chips  Original 170g\":\n",
        "    count_for_chips_6+=1\n",
        "count_for_Doritos=count_for_chips_4+count_for_chips_5+count_for_chips_6\n",
        "print(\"count for Doritos product=\",count_for_Doritos)\n",
        "#Unique Product=\"French Fries\"\n",
        "# count of chips item in prod_name=French Fries Potato Chips 175g column in transaction data\n",
        "count_for_chips_7=0\n",
        "for i in transaction_data[\"PROD_NAME\"]:\n",
        "  if i==\"French Fries Potato Chips 175g\":\n",
        "    count_for_chips_7+=1\n",
        "print(\"count for French Fries chips=\",count_for_chips_7)\n",
        "\n",
        "#Company Name=\"Smiths\"\n",
        "# count of chips item in prod_name=Smiths Crinkle Chips Salt & Vinegar 330g column in transaction data\n",
        "count_for_chips_8=0\n",
        "for i in transaction_data[\"PROD_NAME\"]:\n",
        "  if i==\"Smiths Crinkle Chips Salt & Vinegar 330g\":\n",
        "    count_for_chips_8+=1\n",
        "# count of chips item in prod_name=Smiths Crinkle Cut  Chips Barbecue 170g column in transaction data\n",
        "count_for_chips_9=0\n",
        "for i in transaction_data[\"PROD_NAME\"]:\n",
        "  if i==\"Smiths Crinkle Cut  Chips Barbecue 170g\":\n",
        "    count_for_chips_9+=1\n",
        "# count of chips item in prod_name=Smiths Crinkle Cut  Chips Chicken 170g column in transaction data\n",
        "count_for_chips_10=0\n",
        "for i in transaction_data[\"PROD_NAME\"]:\n",
        "  if i==\"Smiths Crinkle Cut  Chips Chicken 170g\":\n",
        "    count_for_chips_10+=1\n",
        "# count of chips item in prod_name=Smiths Crinkle Cut  Chips Chs&Onion170g column in transaction data\n",
        "count_for_chips_11=0\n",
        "for i in transaction_data[\"PROD_NAME\"]:\n",
        "  if i==\"Smiths Crinkle Cut  Chips Chs&Onion170g\":\n",
        "    count_for_chips_11+=1\n",
        "# count of chips item in prod_name=Smiths Crinkle Cut  Chips Original 170g column in transaction data\n",
        "count_for_chips_12=0\n",
        "for i in transaction_data[\"PROD_NAME\"]:\n",
        "  if i==\"Smiths Crinkle Cut  Chips Original 170g\":\n",
        "    count_for_chips_12+=1\n",
        "count_for_Smiths=count_for_chips_7+count_for_chips_8+count_for_chips_9+count_for_chips_10+count_for_chips_11+count_for_chips_12\n",
        "print(\"count for Smiths chips=\",count_for_Smiths)\n",
        "#Company Name=\"Thins\"\n",
        "# count of chips item in prod_name=Thins Chips         Originl saltd 175g column in transaction data\n",
        "count_for_chips_13=0\n",
        "for i in transaction_data[\"PROD_NAME\"]:\n",
        "  if i==\"Thins Chips         Originl saltd 175g\":\n",
        "    count_for_chips_13+=1\n",
        "# count of chips item in prod_name=Thins Chips         Originl saltd 175g column in transaction data\n",
        "count_for_chips_14=0\n",
        "for i in transaction_data[\"PROD_NAME\"]:\n",
        "  if i==\"Thins Chips         Originl saltd 175g\":\n",
        "    count_for_chips_14+=1\n",
        "# count of chips item in prod_name=Thins Chips Salt &  Vinegar 175g column in transaction data\n",
        "count_for_chips_15=0\n",
        "for i in transaction_data[\"PROD_NAME\"]:\n",
        "  if i==\"Thins Chips Salt &  Vinegar 175g\":\n",
        "    count_for_chips_15+=1\n",
        "# count of chips item in prod_name=Thins Chips Seasonedchicken 175g column in transaction data\n",
        "count_for_chips_16=0\n",
        "for i in transaction_data[\"PROD_NAME\"]:\n",
        "  if i==\"Thins Chips Seasonedchicken 175g\":\n",
        "    count_for_chips_16+=1\n",
        "# count of chips item in prod_name=Thins Potato Chips  Hot & Spicy 175g column in transaction data\n",
        "count_for_chips_17=0\n",
        "for i in transaction_data[\"PROD_NAME\"]:\n",
        "  if i==\"Thins Potato Chips  Hot & Spicy 175g\":\n",
        "    count_for_chips_17+=1\n",
        "count_for_Thins=count_for_chips_13+count_for_chips_14+count_for_chips_15+count_for_chips_16+count_for_chips_17\n",
        "print(\"count for Thins chips=\",count_for_Thins)\n",
        "#Company Name=\"WW\"\n",
        "# count of chips item in prod_name=WW Original Corn    Chips 200g column in transaction data\n",
        "count_for_chips_18=0\n",
        "for i in transaction_data[\"PROD_NAME\"]:\n",
        "  if i==\"WW Original Corn    Chips 200g\":\n",
        "    count_for_chips_18+=1\n",
        "# count of chips item in prod_name=WW Original Stacked Chips 160g column in transaction data\n",
        "count_for_chips_19=0\n",
        "for i in transaction_data[\"PROD_NAME\"]:\n",
        "  if i==\"WW Original Stacked Chips 160g\":\n",
        "    count_for_chips_19+=1\n",
        "# count of chips item in prod_name=WW Supreme Cheese   Corn Chips 200g column in transaction data\n",
        "count_for_chips_20=0\n",
        "for i in transaction_data[\"PROD_NAME\"]:\n",
        "  if i==\"WW Supreme Cheese   Corn Chips 200g\":\n",
        "    count_for_chips_20+=1\n",
        "# count of chips item in prod_name=WW Sour Cream &OnionStacked Chips 160g column in transaction data\n",
        "count_for_chips_21=0\n",
        "for i in transaction_data[\"PROD_NAME\"]:\n",
        "  if i==\"WW Sour Cream &OnionStacked Chips 160g\":\n",
        "    count_for_chips_21+=1\n",
        "count_for_WW=count_for_chips_18+count_for_chips_19+count_for_chips_20+count_for_chips_21\n",
        "print(\"count for WW chips=\",count_for_WW)\n",
        "\n",
        "\n",
        "\n"
      ],
      "metadata": {
        "id": "PTXgEaqvqTp9",
        "outputId": "c1671d58-5ba0-4f7d-d3a6-6c12c1f0988a",
        "colab": {
          "base_uri": "https://localhost:8080/"
        }
      },
      "execution_count": 5,
      "outputs": [
        {
          "output_type": "stream",
          "name": "stdout",
          "text": [
            "count for Cobs chips= 9693\n",
            "count for Doritos product= 9498\n",
            "count for French Fries chips= 1418\n",
            "count for Smiths chips= 10530\n",
            "count for Thins chips= 12328\n",
            "count for WW chips= 5974\n"
          ]
        }
      ]
    },
    {
      "cell_type": "code",
      "source": [
        "Total_count=count_for_Cobs+count_for_Doritos+count_for_chips_7+count_for_Smiths+count_for_Thins+count_for_WW\n",
        "print(\"Total count for chips=\",Total_count)"
      ],
      "metadata": {
        "id": "v-XpXRzV3jUN",
        "outputId": "27d4493e-d485-4592-aa2e-2b09e49b17a6",
        "colab": {
          "base_uri": "https://localhost:8080/"
        }
      },
      "execution_count": 6,
      "outputs": [
        {
          "output_type": "stream",
          "name": "stdout",
          "text": [
            "Total count for chips= 49441\n"
          ]
        }
      ]
    },
    {
      "cell_type": "code",
      "source": [
        "#ratio for chips purchase\n",
        "Chips_ratio=(Total_count/(transaction_data[\"TOT_SALES\"].count()))\n",
        "print(\"Chips purchase ratio=\",Chips_ratio)"
      ],
      "metadata": {
        "id": "qdSJ43V0oLLQ",
        "outputId": "56bb9c26-bd12-47a2-9932-7a55a2a28f68",
        "colab": {
          "base_uri": "https://localhost:8080/"
        }
      },
      "execution_count": 7,
      "outputs": [
        {
          "output_type": "stream",
          "name": "stdout",
          "text": [
            "Chips purchase ratio= 0.18668534489268832\n"
          ]
        }
      ]
    },
    {
      "cell_type": "code",
      "source": [
        "#dataset for the purchase behaviour\n",
        "purchase_behaviour_data=pd.DataFrame(purchase_behaviour)\n",
        "print(purchase_behaviour_data)"
      ],
      "metadata": {
        "id": "RK9DgLugtXl0",
        "outputId": "51d64f24-953f-4966-80b3-0e481a6b0920",
        "colab": {
          "base_uri": "https://localhost:8080/"
        }
      },
      "execution_count": 8,
      "outputs": [
        {
          "output_type": "stream",
          "name": "stdout",
          "text": [
            "       LYLTY_CARD_NBR               LIFESTAGE PREMIUM_CUSTOMER\n",
            "0                1000   YOUNG SINGLES/COUPLES          Premium\n",
            "1                1002   YOUNG SINGLES/COUPLES       Mainstream\n",
            "2                1003          YOUNG FAMILIES           Budget\n",
            "3                1004   OLDER SINGLES/COUPLES       Mainstream\n",
            "4                1005  MIDAGE SINGLES/COUPLES       Mainstream\n",
            "...               ...                     ...              ...\n",
            "72632         2370651  MIDAGE SINGLES/COUPLES       Mainstream\n",
            "72633         2370701          YOUNG FAMILIES       Mainstream\n",
            "72634         2370751          YOUNG FAMILIES          Premium\n",
            "72635         2370961          OLDER FAMILIES           Budget\n",
            "72636         2373711   YOUNG SINGLES/COUPLES       Mainstream\n",
            "\n",
            "[72637 rows x 3 columns]\n"
          ]
        }
      ]
    },
    {
      "cell_type": "code",
      "source": [
        "#fetching different lifestage from purchase_behaviour file\n",
        "lifestage=[]\n",
        "for i in purchase_behaviour_data[\"LIFESTAGE\"]:\n",
        "  if i not in lifestage:\n",
        "    lifestage.append(i)\n",
        "print(lifestage)"
      ],
      "metadata": {
        "id": "TzN-HlcsrFkW",
        "outputId": "4a706da0-2225-43e2-dcee-293ced337922",
        "colab": {
          "base_uri": "https://localhost:8080/"
        }
      },
      "execution_count": 12,
      "outputs": [
        {
          "output_type": "stream",
          "name": "stdout",
          "text": [
            "['YOUNG SINGLES/COUPLES', 'YOUNG FAMILIES', 'OLDER SINGLES/COUPLES', 'MIDAGE SINGLES/COUPLES', 'NEW FAMILIES', 'OLDER FAMILIES', 'RETIREES']\n"
          ]
        }
      ]
    },
    {
      "cell_type": "code",
      "source": [
        "#fetching LYLTY_CARD_NBR for lifestage=\"YOUNG SINGLES/COUPLES\"\n",
        "LYLTY_CARD_NBR_for_YSG=[]\n",
        "for i in purchase_behaviour_data[\"LYLTY_CARD_NBR\"]:\n",
        "   if i in purchase_behaviour_data[\"LIFESTAGE\"]==\"YOUNG SINGLES/COUPLES\":\n",
        "           LYLTY_CARD_NBR_for_YSG.append(i)\n",
        "print(LYLTY_CARD_NBR_for_YSG)"
      ],
      "metadata": {
        "id": "o24Z4DLUd4Eg",
        "outputId": "d72e7905-7a6a-473f-fba7-6ea97678921d",
        "colab": {
          "base_uri": "https://localhost:8080/",
          "height": 332
        }
      },
      "execution_count": 22,
      "outputs": [
        {
          "output_type": "error",
          "ename": "ValueError",
          "evalue": "The truth value of a Series is ambiguous. Use a.empty, a.bool(), a.item(), a.any() or a.all().",
          "traceback": [
            "\u001b[0;31m---------------------------------------------------------------------------\u001b[0m",
            "\u001b[0;31mValueError\u001b[0m                                Traceback (most recent call last)",
            "\u001b[0;32m<ipython-input-22-715f5801db73>\u001b[0m in \u001b[0;36m<cell line: 3>\u001b[0;34m()\u001b[0m\n\u001b[1;32m      2\u001b[0m \u001b[0mLYLTY_CARD_NBR_for_YSG\u001b[0m\u001b[0;34m=\u001b[0m\u001b[0;34m[\u001b[0m\u001b[0;34m]\u001b[0m\u001b[0;34m\u001b[0m\u001b[0;34m\u001b[0m\u001b[0m\n\u001b[1;32m      3\u001b[0m \u001b[0;32mfor\u001b[0m \u001b[0mi\u001b[0m \u001b[0;32min\u001b[0m \u001b[0mpurchase_behaviour_data\u001b[0m\u001b[0;34m[\u001b[0m\u001b[0;34m\"LYLTY_CARD_NBR\"\u001b[0m\u001b[0;34m]\u001b[0m\u001b[0;34m:\u001b[0m\u001b[0;34m\u001b[0m\u001b[0;34m\u001b[0m\u001b[0m\n\u001b[0;32m----> 4\u001b[0;31m    \u001b[0;32mif\u001b[0m \u001b[0mi\u001b[0m \u001b[0;32min\u001b[0m \u001b[0mpurchase_behaviour_data\u001b[0m\u001b[0;34m[\u001b[0m\u001b[0;34m\"LIFESTAGE\"\u001b[0m\u001b[0;34m]\u001b[0m\u001b[0;34m==\u001b[0m\u001b[0;34m\"YOUNG SINGLES/COUPLES\"\u001b[0m\u001b[0;34m:\u001b[0m\u001b[0;34m\u001b[0m\u001b[0;34m\u001b[0m\u001b[0m\n\u001b[0m\u001b[1;32m      5\u001b[0m            \u001b[0mLYLTY_CARD_NBR_for_YSG\u001b[0m\u001b[0;34m.\u001b[0m\u001b[0mappend\u001b[0m\u001b[0;34m(\u001b[0m\u001b[0mi\u001b[0m\u001b[0;34m)\u001b[0m\u001b[0;34m\u001b[0m\u001b[0;34m\u001b[0m\u001b[0m\n\u001b[1;32m      6\u001b[0m \u001b[0mprint\u001b[0m\u001b[0;34m(\u001b[0m\u001b[0mLYLTY_CARD_NBR_for_YSG\u001b[0m\u001b[0;34m)\u001b[0m\u001b[0;34m\u001b[0m\u001b[0;34m\u001b[0m\u001b[0m\n",
            "\u001b[0;32m/usr/local/lib/python3.10/dist-packages/pandas/core/generic.py\u001b[0m in \u001b[0;36m__nonzero__\u001b[0;34m(self)\u001b[0m\n\u001b[1;32m   1525\u001b[0m     \u001b[0;34m@\u001b[0m\u001b[0mfinal\u001b[0m\u001b[0;34m\u001b[0m\u001b[0;34m\u001b[0m\u001b[0m\n\u001b[1;32m   1526\u001b[0m     \u001b[0;32mdef\u001b[0m \u001b[0m__nonzero__\u001b[0m\u001b[0;34m(\u001b[0m\u001b[0mself\u001b[0m\u001b[0;34m)\u001b[0m \u001b[0;34m->\u001b[0m \u001b[0mNoReturn\u001b[0m\u001b[0;34m:\u001b[0m\u001b[0;34m\u001b[0m\u001b[0;34m\u001b[0m\u001b[0m\n\u001b[0;32m-> 1527\u001b[0;31m         raise ValueError(\n\u001b[0m\u001b[1;32m   1528\u001b[0m             \u001b[0;34mf\"The truth value of a {type(self).__name__} is ambiguous. \"\u001b[0m\u001b[0;34m\u001b[0m\u001b[0;34m\u001b[0m\u001b[0m\n\u001b[1;32m   1529\u001b[0m             \u001b[0;34m\"Use a.empty, a.bool(), a.item(), a.any() or a.all().\"\u001b[0m\u001b[0;34m\u001b[0m\u001b[0;34m\u001b[0m\u001b[0m\n",
            "\u001b[0;31mValueError\u001b[0m: The truth value of a Series is ambiguous. Use a.empty, a.bool(), a.item(), a.any() or a.all()."
          ]
        }
      ]
    },
    {
      "cell_type": "code",
      "source": [],
      "metadata": {
        "id": "nJWktWaI1zmX"
      },
      "execution_count": null,
      "outputs": []
    }
  ]
}