{
  "nbformat": 4,
  "nbformat_minor": 0,
  "metadata": {
    "colab": {
      "provenance": [],
      "authorship_tag": "ABX9TyPH1IeQ822v67SIe34LhxBC",
      "include_colab_link": true
    },
    "kernelspec": {
      "name": "python3",
      "display_name": "Python 3"
    },
    "language_info": {
      "name": "python"
    }
  },
  "cells": [
    {
      "cell_type": "markdown",
      "metadata": {
        "id": "view-in-github",
        "colab_type": "text"
      },
      "source": [
        "<a href=\"https://colab.research.google.com/github/ankitg-02/customer_analysis/blob/main/quantium_1.ipynb\" target=\"_parent\"><img src=\"https://colab.research.google.com/assets/colab-badge.svg\" alt=\"Open In Colab\"/></a>"
      ]
    },
    {
      "cell_type": "code",
      "execution_count": 3,
      "metadata": {
        "id": "glr7hgv6odni"
      },
      "outputs": [],
      "source": [
        "import pandas as pd\n",
        "import numpy as np\n",
        "import matplotlib.pyplot as plt\n"
      ]
    },
    {
      "cell_type": "code",
      "source": [
        "#importing data from transaction excelsheet\n",
        "transaction=pd.read_excel(\"/content/QVI_transaction_data.xlsx\")\n",
        "#importing data from puchase behaviour csv file\n",
        "purchase_behaviour=pd.read_csv(\"/content/QVI_purchase_behaviour.csv\")"
      ],
      "metadata": {
        "id": "y3aO6Is5pCjq"
      },
      "execution_count": 4,
      "outputs": []
    },
    {
      "cell_type": "code",
      "source": [
        "#dataset for the transaction\n",
        "transaction_data=pd.DataFrame(transaction)\n",
        "print(transaction_data)\n"
      ],
      "metadata": {
        "id": "uaeGmgBPpeCE",
        "outputId": "26b06f60-2fb0-42cf-bf50-01ac20129d2b",
        "colab": {
          "base_uri": "https://localhost:8080/"
        }
      },
      "execution_count": 5,
      "outputs": [
        {
          "output_type": "stream",
          "name": "stdout",
          "text": [
            "         DATE  STORE_NBR  LYLTY_CARD_NBR  TXN_ID  PROD_NBR  \\\n",
            "0       43390          1            1000       1         5   \n",
            "1       43599          1            1307     348        66   \n",
            "2       43605          1            1343     383        61   \n",
            "3       43329          2            2373     974        69   \n",
            "4       43330          2            2426    1038       108   \n",
            "...       ...        ...             ...     ...       ...   \n",
            "264831  43533        272          272319  270088        89   \n",
            "264832  43325        272          272358  270154        74   \n",
            "264833  43410        272          272379  270187        51   \n",
            "264834  43461        272          272379  270188        42   \n",
            "264835  43365        272          272380  270189        74   \n",
            "\n",
            "                                       PROD_NAME  PROD_QTY  TOT_SALES  \n",
            "0         Natural Chip        Compny SeaSalt175g         2        6.0  \n",
            "1                       CCs Nacho Cheese    175g         3        6.3  \n",
            "2         Smiths Crinkle Cut  Chips Chicken 170g         2        2.9  \n",
            "3         Smiths Chip Thinly  S/Cream&Onion 175g         5       15.0  \n",
            "4       Kettle Tortilla ChpsHny&Jlpno Chili 150g         3       13.8  \n",
            "...                                          ...       ...        ...  \n",
            "264831   Kettle Sweet Chilli And Sour Cream 175g         2       10.8  \n",
            "264832             Tostitos Splash Of  Lime 175g         1        4.4  \n",
            "264833                  Doritos Mexicana    170g         2        8.8  \n",
            "264834   Doritos Corn Chip Mexican Jalapeno 150g         2        7.8  \n",
            "264835             Tostitos Splash Of  Lime 175g         2        8.8  \n",
            "\n",
            "[264836 rows x 8 columns]\n"
          ]
        }
      ]
    },
    {
      "cell_type": "code",
      "source": [
        "print(transaction_data[\"TOT_SALES\"].count())"
      ],
      "metadata": {
        "id": "qipX1lZtqtgd",
        "outputId": "a3a74989-00e8-4b10-8d87-3e66704bafb0",
        "colab": {
          "base_uri": "https://localhost:8080/"
        }
      },
      "execution_count": 6,
      "outputs": [
        {
          "output_type": "stream",
          "name": "stdout",
          "text": [
            "264836\n"
          ]
        }
      ]
    },
    {
      "cell_type": "code",
      "source": [
        "#Company Name=\"Cobs\"\n",
        "# count of chips item in prod_name=Cobs Popd Sea Salt Chips 110g column in transaction data\n",
        "count_for_chips_1=0\n",
        "for i in transaction_data[\"PROD_NAME\"]:\n",
        "  if i==\"Cobs Popd Sea Salt  Chips 110g\" :\n",
        "    count_for_chips_1+=1\n",
        "# count of chips item in prod_name=Cobs Popd Sour Crm &Chives Chips 110g column in transaction data\n",
        "count_for_chips_2=0\n",
        "for i in transaction_data[\"PROD_NAME\"]:\n",
        "  if i==\"Cobs Popd Sour Crm  &Chives Chips 110g\":\n",
        "    count_for_chips_2+=1\n",
        "# count of chips item in prod_name=Cobs Popd Swt/Chlli &Sr/Cream Chips 110g column in transaction data\n",
        "count_for_chips_3=0\n",
        "for i in transaction_data[\"PROD_NAME\"]:\n",
        "  if i==\"Cobs Popd Swt/Chlli &Sr/Cream Chips 110g\":\n",
        "    count_for_chips_3+=1\n",
        "count_for_Cobs=count_for_chips_1+count_for_chips_2+count_for_chips_3\n",
        "print(\"count for Cobs chips=\",count_for_Cobs)\n",
        "\n",
        "#Company Name=\"Doritos\"\n",
        "# count of chips item in prod_name=Doritos Corn Chips  Cheese Supreme 170g column in transaction data\n",
        "count_for_chips_4=0\n",
        "for i in transaction_data[\"PROD_NAME\"]:\n",
        "  if i==\"Doritos Corn Chips  Cheese Supreme 170g\":\n",
        "    count_for_chips_4+=1\n",
        "# count of chips item in prod_name=Doritos Corn Chips  Nacho Cheese 170g column in transaction data\n",
        "count_for_chips_5=0\n",
        "for i in transaction_data[\"PROD_NAME\"]:\n",
        "  if i==\"Doritos Corn Chips  Nacho Cheese 170g\":\n",
        "    count_for_chips_5+=1\n",
        "# count of chips item in prod_name=Doritos Corn Chips  Original 170g column in transaction data\n",
        "count_for_chips_6=0\n",
        "for i in transaction_data[\"PROD_NAME\"]:\n",
        "  if i==\"Doritos Corn Chips  Original 170g\":\n",
        "    count_for_chips_6+=1\n",
        "count_for_Doritos=count_for_chips_4+count_for_chips_5+count_for_chips_6\n",
        "print(\"count for Doritos product=\",count_for_Doritos)\n",
        "#Unique Product=\"French Fries\"\n",
        "# count of chips item in prod_name=French Fries Potato Chips 175g column in transaction data\n",
        "count_for_chips_7=0\n",
        "for i in transaction_data[\"PROD_NAME\"]:\n",
        "  if i==\"French Fries Potato Chips 175g\":\n",
        "    count_for_chips_7+=1\n",
        "print(\"count for French Fries chips=\",count_for_chips_7)\n",
        "\n",
        "#Company Name=\"Smiths\"\n",
        "# count of chips item in prod_name=Smiths Crinkle Chips Salt & Vinegar 330g column in transaction data\n",
        "count_for_chips_8=0\n",
        "for i in transaction_data[\"PROD_NAME\"]:\n",
        "  if i==\"Smiths Crinkle Chips Salt & Vinegar 330g\":\n",
        "    count_for_chips_8+=1\n",
        "# count of chips item in prod_name=Smiths Crinkle Cut  Chips Barbecue 170g column in transaction data\n",
        "count_for_chips_9=0\n",
        "for i in transaction_data[\"PROD_NAME\"]:\n",
        "  if i==\"Smiths Crinkle Cut  Chips Barbecue 170g\":\n",
        "    count_for_chips_9+=1\n",
        "# count of chips item in prod_name=Smiths Crinkle Cut  Chips Chicken 170g column in transaction data\n",
        "count_for_chips_10=0\n",
        "for i in transaction_data[\"PROD_NAME\"]:\n",
        "  if i==\"Smiths Crinkle Cut  Chips Chicken 170g\":\n",
        "    count_for_chips_10+=1\n",
        "# count of chips item in prod_name=Smiths Crinkle Cut  Chips Chs&Onion170g column in transaction data\n",
        "count_for_chips_11=0\n",
        "for i in transaction_data[\"PROD_NAME\"]:\n",
        "  if i==\"Smiths Crinkle Cut  Chips Chs&Onion170g\":\n",
        "    count_for_chips_11+=1\n",
        "# count of chips item in prod_name=Smiths Crinkle Cut  Chips Original 170g column in transaction data\n",
        "count_for_chips_12=0\n",
        "for i in transaction_data[\"PROD_NAME\"]:\n",
        "  if i==\"Smiths Crinkle Cut  Chips Original 170g\":\n",
        "    count_for_chips_12+=1\n",
        "count_for_Smiths=count_for_chips_7+count_for_chips_8+count_for_chips_9+count_for_chips_10+count_for_chips_11+count_for_chips_12\n",
        "print(\"count for Smiths chips=\",count_for_Smiths)\n",
        "#Company Name=\"Thins\"\n",
        "# count of chips item in prod_name=Thins Chips         Originl saltd 175g column in transaction data\n",
        "count_for_chips_13=0\n",
        "for i in transaction_data[\"PROD_NAME\"]:\n",
        "  if i==\"Thins Chips         Originl saltd 175g\":\n",
        "    count_for_chips_13+=1\n",
        "# count of chips item in prod_name=Thins Chips         Originl saltd 175g column in transaction data\n",
        "count_for_chips_14=0\n",
        "for i in transaction_data[\"PROD_NAME\"]:\n",
        "  if i==\"Thins Chips         Originl saltd 175g\":\n",
        "    count_for_chips_14+=1\n",
        "# count of chips item in prod_name=Thins Chips Salt &  Vinegar 175g column in transaction data\n",
        "count_for_chips_15=0\n",
        "for i in transaction_data[\"PROD_NAME\"]:\n",
        "  if i==\"Thins Chips Salt &  Vinegar 175g\":\n",
        "    count_for_chips_15+=1\n",
        "# count of chips item in prod_name=Thins Chips Seasonedchicken 175g column in transaction data\n",
        "count_for_chips_16=0\n",
        "for i in transaction_data[\"PROD_NAME\"]:\n",
        "  if i==\"Thins Chips Seasonedchicken 175g\":\n",
        "    count_for_chips_16+=1\n",
        "# count of chips item in prod_name=Thins Potato Chips  Hot & Spicy 175g column in transaction data\n",
        "count_for_chips_17=0\n",
        "for i in transaction_data[\"PROD_NAME\"]:\n",
        "  if i==\"Thins Potato Chips  Hot & Spicy 175g\":\n",
        "    count_for_chips_17+=1\n",
        "count_for_Thins=count_for_chips_13+count_for_chips_14+count_for_chips_15+count_for_chips_16+count_for_chips_17\n",
        "print(\"count for Thins chips=\",count_for_Thins)\n",
        "#Company Name=\"WW\"\n",
        "# count of chips item in prod_name=WW Original Corn    Chips 200g column in transaction data\n",
        "count_for_chips_18=0\n",
        "for i in transaction_data[\"PROD_NAME\"]:\n",
        "  if i==\"WW Original Corn    Chips 200g\":\n",
        "    count_for_chips_18+=1\n",
        "# count of chips item in prod_name=WW Original Stacked Chips 160g column in transaction data\n",
        "count_for_chips_19=0\n",
        "for i in transaction_data[\"PROD_NAME\"]:\n",
        "  if i==\"WW Original Stacked Chips 160g\":\n",
        "    count_for_chips_19+=1\n",
        "# count of chips item in prod_name=WW Supreme Cheese   Corn Chips 200g column in transaction data\n",
        "count_for_chips_20=0\n",
        "for i in transaction_data[\"PROD_NAME\"]:\n",
        "  if i==\"WW Supreme Cheese   Corn Chips 200g\":\n",
        "    count_for_chips_20+=1\n",
        "# count of chips item in prod_name=WW Sour Cream &OnionStacked Chips 160g column in transaction data\n",
        "count_for_chips_21=0\n",
        "for i in transaction_data[\"PROD_NAME\"]:\n",
        "  if i==\"WW Sour Cream &OnionStacked Chips 160g\":\n",
        "    count_for_chips_21+=1\n",
        "count_for_WW=count_for_chips_18+count_for_chips_19+count_for_chips_20+count_for_chips_21\n",
        "print(\"count for WW chips=\",count_for_WW)\n",
        "####_____________________________________________________________________________####\n",
        "Cobs=count_for_Cobs\n",
        "Doritos=count_for_Doritos\n",
        "French_Fries=count_for_chips_7\n",
        "Smiths=count_for_Smiths\n",
        "Thins=count_for_Thins\n",
        "WW=count_for_WW\n",
        "\n",
        "\n",
        "\n",
        "\n"
      ],
      "metadata": {
        "id": "PTXgEaqvqTp9",
        "outputId": "dd869ad4-dee8-4837-d10f-774fd1bf2f89",
        "colab": {
          "base_uri": "https://localhost:8080/"
        }
      },
      "execution_count": 16,
      "outputs": [
        {
          "output_type": "stream",
          "name": "stdout",
          "text": [
            "count for Cobs chips= 9693\n",
            "count for Doritos product= 9498\n",
            "count for French Fries chips= 1418\n",
            "count for Smiths chips= 10530\n",
            "count for Thins chips= 12328\n",
            "count for WW chips= 5974\n"
          ]
        }
      ]
    },
    {
      "cell_type": "code",
      "source": [
        "#details for the graph\n",
        "Company=['Cobs','Doritos','French fries','Smiths','Thins','WW']\n",
        "Count=[count_for_Cobs,count_for_Doritos,count_for_chips_7,count_for_Smiths,count_for_Thins,count_for_WW]\n",
        "count=np.array(Count)\n",
        "com=np.array(Company)\n",
        "print(Company)\n",
        "print(count)"
      ],
      "metadata": {
        "id": "Ia7NJZ1tZ2IQ",
        "outputId": "fda3c94d-0ebd-433d-a452-6fdd46e353d7",
        "colab": {
          "base_uri": "https://localhost:8080/"
        }
      },
      "execution_count": 23,
      "outputs": [
        {
          "output_type": "stream",
          "name": "stdout",
          "text": [
            "['Cobs', 'Doritos', 'French fries', 'Smiths', 'Thins', 'WW']\n",
            "[ 9693  9498  1418 10530 12328  5974]\n"
          ]
        }
      ]
    },
    {
      "cell_type": "code",
      "source": [
        "#plotting the graph\n",
        "plt.xlabel(('Company'))\n",
        "plt.ylabel(('Sell of chips'))\n",
        "plt.bar(com,count,label='sales')\n",
        "plt.title(\"Chips Sales\")\n",
        "plt.legend()\n"
      ],
      "metadata": {
        "id": "V69EMqQXdj2U",
        "outputId": "f0646728-cf07-4a05-b87d-9d8ee3b8a87f",
        "colab": {
          "base_uri": "https://localhost:8080/",
          "height": 489
        }
      },
      "execution_count": 25,
      "outputs": [
        {
          "output_type": "execute_result",
          "data": {
            "text/plain": [
              "<matplotlib.legend.Legend at 0x79426ddf6f20>"
            ]
          },
          "metadata": {},
          "execution_count": 25
        },
        {
          "output_type": "display_data",
          "data": {
            "text/plain": [
              "<Figure size 640x480 with 1 Axes>"
            ],
            "image/png": "[encoded data removed]"
          },
          "metadata": {}
        }
      ]
    },
    {
      "cell_type": "code",
      "source": [
        "Total_count=count_for_Cobs+count_for_Doritos+count_for_chips_7+count_for_Smiths+count_for_Thins+count_for_WW\n",
        "print(\"Total count for chips=\",Total_count)"
      ],
      "metadata": {
        "id": "v-XpXRzV3jUN",
        "outputId": "de1a71c6-b166-4a4c-ce3c-2dcdfa22977f",
        "colab": {
          "base_uri": "https://localhost:8080/"
        }
      },
      "execution_count": 8,
      "outputs": [
        {
          "output_type": "stream",
          "name": "stdout",
          "text": [
            "Total count for chips= 49441\n"
          ]
        }
      ]
    },
    {
      "cell_type": "code",
      "source": [
        "#ratio for chips purchase\n",
        "Chips_ratio=(Total_count/(transaction_data[\"TOT_SALES\"].count()))\n",
        "print(\"Chips purchase ratio=\",Chips_ratio)"
      ],
      "metadata": {
        "id": "qdSJ43V0oLLQ",
        "outputId": "cd4eab62-d998-4960-f62b-ddbeee983d3f",
        "colab": {
          "base_uri": "https://localhost:8080/"
        }
      },
      "execution_count": 9,
      "outputs": [
        {
          "output_type": "stream",
          "name": "stdout",
          "text": [
            "Chips purchase ratio= 0.18668534489268832\n"
          ]
        }
      ]
    },
    {
      "cell_type": "code",
      "source": [
        "#dataset for the purchase behaviour\n",
        "purchase_behaviour_data=pd.DataFrame(purchase_behaviour)\n",
        "print(purchase_behaviour_data)"
      ],
      "metadata": {
        "id": "RK9DgLugtXl0",
        "outputId": "ad6f0a93-cb9e-45bf-ffe2-0d254ef43d90",
        "colab": {
          "base_uri": "https://localhost:8080/"
        }
      },
      "execution_count": 10,
      "outputs": [
        {
          "output_type": "stream",
          "name": "stdout",
          "text": [
            "       LYLTY_CARD_NBR               LIFESTAGE PREMIUM_CUSTOMER\n",
            "0                1000   YOUNG SINGLES/COUPLES          Premium\n",
            "1                1002   YOUNG SINGLES/COUPLES       Mainstream\n",
            "2                1003          YOUNG FAMILIES           Budget\n",
            "3                1004   OLDER SINGLES/COUPLES       Mainstream\n",
            "4                1005  MIDAGE SINGLES/COUPLES       Mainstream\n",
            "...               ...                     ...              ...\n",
            "72632         2370651  MIDAGE SINGLES/COUPLES       Mainstream\n",
            "72633         2370701          YOUNG FAMILIES       Mainstream\n",
            "72634         2370751          YOUNG FAMILIES          Premium\n",
            "72635         2370961          OLDER FAMILIES           Budget\n",
            "72636         2373711   YOUNG SINGLES/COUPLES       Mainstream\n",
            "\n",
            "[72637 rows x 3 columns]\n"
          ]
        }
      ]
    },
    {
      "cell_type": "code",
      "source": [
        "#fetching different lifestage from purchase_behaviour file\n",
        "lifestage=purchase_behaviour_data.groupby('LIFESTAGE')\n",
        "print(lifestage)\n",
        "#SINGLES/COUPLES\n",
        "lifestage_1=lifestage.get_group(\"YOUNG SINGLES/COUPLES\")\n",
        "YS=pd.DataFrame(lifestage_1)\n",
        "print(YS)\n",
        "lifestage_2=lifestage.get_group(\"OLDER SINGLES/COUPLES\")\n",
        "OS=pd.DataFrame(lifestage_2)\n",
        "print(OS)\n",
        "lifestage_3=lifestage.get_group(\"MIDAGE SINGLES/COUPLES\")\n",
        "MS=pd.DataFrame(lifestage_3)\n",
        "print(MS)\n"
      ],
      "metadata": {
        "id": "nJWktWaI1zmX",
        "colab": {
          "base_uri": "https://localhost:8080/"
        },
        "outputId": "98a8e77b-2d01-4ee3-aa86-2fdbc1c5daf8"
      },
      "execution_count": 11,
      "outputs": [
        {
          "output_type": "stream",
          "name": "stdout",
          "text": [
            "<pandas.core.groupby.generic.DataFrameGroupBy object at 0x79427070ef50>\n",
            "       LYLTY_CARD_NBR              LIFESTAGE PREMIUM_CUSTOMER\n",
            "0                1000  YOUNG SINGLES/COUPLES          Premium\n",
            "1                1002  YOUNG SINGLES/COUPLES       Mainstream\n",
            "5                1007  YOUNG SINGLES/COUPLES           Budget\n",
            "7                1010  YOUNG SINGLES/COUPLES       Mainstream\n",
            "12               1018  YOUNG SINGLES/COUPLES       Mainstream\n",
            "...               ...                    ...              ...\n",
            "72612         2330041  YOUNG SINGLES/COUPLES       Mainstream\n",
            "72622         2330311  YOUNG SINGLES/COUPLES           Budget\n",
            "72623         2330321  YOUNG SINGLES/COUPLES       Mainstream\n",
            "72629         2370181  YOUNG SINGLES/COUPLES       Mainstream\n",
            "72636         2373711  YOUNG SINGLES/COUPLES       Mainstream\n",
            "\n",
            "[14441 rows x 3 columns]\n",
            "       LYLTY_CARD_NBR              LIFESTAGE PREMIUM_CUSTOMER\n",
            "3                1004  OLDER SINGLES/COUPLES       Mainstream\n",
            "8                1011  OLDER SINGLES/COUPLES       Mainstream\n",
            "13               1019  OLDER SINGLES/COUPLES          Premium\n",
            "40               1061  OLDER SINGLES/COUPLES           Budget\n",
            "44               1067  OLDER SINGLES/COUPLES       Mainstream\n",
            "...               ...                    ...              ...\n",
            "72625         2330431  OLDER SINGLES/COUPLES       Mainstream\n",
            "72627         2330501  OLDER SINGLES/COUPLES           Budget\n",
            "72628         2370001  OLDER SINGLES/COUPLES          Premium\n",
            "72630         2370361  OLDER SINGLES/COUPLES           Budget\n",
            "72631         2370581  OLDER SINGLES/COUPLES           Budget\n",
            "\n",
            "[14609 rows x 3 columns]\n",
            "       LYLTY_CARD_NBR               LIFESTAGE PREMIUM_CUSTOMER\n",
            "4                1005  MIDAGE SINGLES/COUPLES       Mainstream\n",
            "16               1023  MIDAGE SINGLES/COUPLES          Premium\n",
            "19               1026  MIDAGE SINGLES/COUPLES          Premium\n",
            "33               1052  MIDAGE SINGLES/COUPLES           Budget\n",
            "34               1053  MIDAGE SINGLES/COUPLES       Mainstream\n",
            "...               ...                     ...              ...\n",
            "72564          272344  MIDAGE SINGLES/COUPLES           Budget\n",
            "72602          272392  MIDAGE SINGLES/COUPLES          Premium\n",
            "72611         2330031  MIDAGE SINGLES/COUPLES          Premium\n",
            "72618         2330211  MIDAGE SINGLES/COUPLES           Budget\n",
            "72632         2370651  MIDAGE SINGLES/COUPLES       Mainstream\n",
            "\n",
            "[7275 rows x 3 columns]\n"
          ]
        }
      ]
    },
    {
      "cell_type": "code",
      "source": [
        "#FAMILES\n",
        "lifestage_4=lifestage.get_group(\"YOUNG FAMILIES\")\n",
        "YF=pd.DataFrame(lifestage_4)\n",
        "print(YF)\n",
        "lifestage_5=lifestage.get_group(\"OLDER FAMILIES\")\n",
        "OF=pd.DataFrame(lifestage_5)\n",
        "print(OF)\n",
        "lifestage_6=lifestage.get_group(\"NEW FAMILIES\")\n",
        "NF=pd.DataFrame(lifestage_6)\n",
        "print(NF)"
      ],
      "metadata": {
        "colab": {
          "base_uri": "https://localhost:8080/"
        },
        "id": "vGh_hRfsS0B5",
        "outputId": "a2e8ed5d-6d34-40c7-8077-4ec0273dfa33"
      },
      "execution_count": 12,
      "outputs": [
        {
          "output_type": "stream",
          "name": "stdout",
          "text": [
            "       LYLTY_CARD_NBR       LIFESTAGE PREMIUM_CUSTOMER\n",
            "2                1003  YOUNG FAMILIES           Budget\n",
            "18               1025  YOUNG FAMILIES           Budget\n",
            "25               1039  YOUNG FAMILIES       Mainstream\n",
            "27               1043  YOUNG FAMILIES           Budget\n",
            "28               1044  YOUNG FAMILIES       Mainstream\n",
            "...               ...             ...              ...\n",
            "72605          861961  YOUNG FAMILIES           Budget\n",
            "72606          862501  YOUNG FAMILIES           Budget\n",
            "72620         2330271  YOUNG FAMILIES       Mainstream\n",
            "72633         2370701  YOUNG FAMILIES       Mainstream\n",
            "72634         2370751  YOUNG FAMILIES          Premium\n",
            "\n",
            "[9178 rows x 3 columns]\n",
            "       LYLTY_CARD_NBR       LIFESTAGE PREMIUM_CUSTOMER\n",
            "9                1012  OLDER FAMILIES       Mainstream\n",
            "11               1016  OLDER FAMILIES       Mainstream\n",
            "15               1022  OLDER FAMILIES           Budget\n",
            "20               1027  OLDER FAMILIES          Premium\n",
            "24               1038  OLDER FAMILIES       Mainstream\n",
            "...               ...             ...              ...\n",
            "72579          272360  OLDER FAMILIES           Budget\n",
            "72607          880171  OLDER FAMILIES           Budget\n",
            "72609          880711  OLDER FAMILIES           Budget\n",
            "72626         2330461  OLDER FAMILIES           Budget\n",
            "72635         2370961  OLDER FAMILIES           Budget\n",
            "\n",
            "[9780 rows x 3 columns]\n",
            "       LYLTY_CARD_NBR     LIFESTAGE PREMIUM_CUSTOMER\n",
            "6                1009  NEW FAMILIES          Premium\n",
            "35               1054  NEW FAMILIES       Mainstream\n",
            "47               1072  NEW FAMILIES          Premium\n",
            "58               1091  NEW FAMILIES           Budget\n",
            "60               1094  NEW FAMILIES           Budget\n",
            "...               ...           ...              ...\n",
            "72514          272275  NEW FAMILIES       Mainstream\n",
            "72516          272277  NEW FAMILIES           Budget\n",
            "72542          272313  NEW FAMILIES          Premium\n",
            "72544          272318  NEW FAMILIES          Premium\n",
            "72600          272390  NEW FAMILIES           Budget\n",
            "\n",
            "[2549 rows x 3 columns]\n"
          ]
        }
      ]
    },
    {
      "cell_type": "code",
      "source": [
        "#RETIRES\n",
        "lifestage_7=lifestage.get_group(\"RETIREES\")\n",
        "R=pd.DataFrame(lifestage_7)\n",
        "print(R)\n"
      ],
      "metadata": {
        "colab": {
          "base_uri": "https://localhost:8080/"
        },
        "id": "02VjD_9IPQqn",
        "outputId": "86984694-a840-4491-ce26-ef43d9a3878b"
      },
      "execution_count": 13,
      "outputs": [
        {
          "output_type": "stream",
          "name": "stdout",
          "text": [
            "       LYLTY_CARD_NBR LIFESTAGE PREMIUM_CUSTOMER\n",
            "10               1013  RETIREES           Budget\n",
            "22               1030  RETIREES       Mainstream\n",
            "23               1034  RETIREES          Premium\n",
            "36               1055  RETIREES       Mainstream\n",
            "48               1074  RETIREES           Budget\n",
            "...               ...       ...              ...\n",
            "72614         2330081  RETIREES       Mainstream\n",
            "72615         2330121  RETIREES           Budget\n",
            "72616         2330171  RETIREES       Mainstream\n",
            "72619         2330251  RETIREES           Budget\n",
            "72624         2330331  RETIREES           Budget\n",
            "\n",
            "[14805 rows x 3 columns]\n"
          ]
        }
      ]
    },
    {
      "cell_type": "code",
      "source": [],
      "metadata": {
        "id": "TXpoy1t0TBXC"
      },
      "execution_count": 13,
      "outputs": []
    }
  ]
}