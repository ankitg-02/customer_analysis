{
  "nbformat": 4,
  "nbformat_minor": 0,
  "metadata": {
    "colab": {
      "provenance": [],
      "authorship_tag": "ABX9TyOuvZDskf19QBE6BKD4yM4L",
      "include_colab_link": true
    },
    "kernelspec": {
      "name": "python3",
      "display_name": "Python 3"
    },
    "language_info": {
      "name": "python"
    }
  },
  "cells": [
    {
      "cell_type": "markdown",
      "metadata": {
        "id": "view-in-github",
        "colab_type": "text"
      },
      "source": [
        "<a href=\"https://colab.research.google.com/github/ankitg-02/customer_analysis/blob/main/quantium_1.ipynb\" target=\"_parent\"><img src=\"https://colab.research.google.com/assets/colab-badge.svg\" alt=\"Open In Colab\"/></a>"
      ]
    },
    {
      "cell_type": "code",
      "execution_count": 1,
      "metadata": {
        "id": "glr7hgv6odni"
      },
      "outputs": [],
      "source": [
        "import pandas as pd\n",
        "import numpy as np\n",
        "import matplotlib.pyplot as plt\n"
      ]
    },
    {
      "cell_type": "code",
      "source": [
        "#importing data from transaction excelsheet\n",
        "transaction=pd.read_excel(\"/content/QVI_transaction_data.xlsx\")\n",
        "#importing data from puchase behaviour csv file\n",
        "purchase_behaviour=pd.read_csv(\"/content/QVI_purchase_behaviour.csv\")"
      ],
      "metadata": {
        "id": "y3aO6Is5pCjq"
      },
      "execution_count": 2,
      "outputs": []
    },
    {
      "cell_type": "code",
      "source": [
        "#dataset for the transaction\n",
        "transaction_data=pd.DataFrame(transaction)\n",
        "print(transaction_data)"
      ],
      "metadata": {
        "colab": {
          "base_uri": "https://localhost:8080/"
        },
        "id": "uaeGmgBPpeCE",
        "outputId": "72a7e164-e004-4e74-f9eb-5860f2321a1a"
      },
      "execution_count": 3,
      "outputs": [
        {
          "output_type": "stream",
          "name": "stdout",
          "text": [
            "         DATE  STORE_NBR  LYLTY_CARD_NBR  TXN_ID  PROD_NBR  \\\n",
            "0       43390          1            1000       1         5   \n",
            "1       43599          1            1307     348        66   \n",
            "2       43605          1            1343     383        61   \n",
            "3       43329          2            2373     974        69   \n",
            "4       43330          2            2426    1038       108   \n",
            "...       ...        ...             ...     ...       ...   \n",
            "264831  43533        272          272319  270088        89   \n",
            "264832  43325        272          272358  270154        74   \n",
            "264833  43410        272          272379  270187        51   \n",
            "264834  43461        272          272379  270188        42   \n",
            "264835  43365        272          272380  270189        74   \n",
            "\n",
            "                                       PROD_NAME  PROD_QTY  TOT_SALES  \n",
            "0         Natural Chip        Compny SeaSalt175g         2        6.0  \n",
            "1                       CCs Nacho Cheese    175g         3        6.3  \n",
            "2         Smiths Crinkle Cut  Chips Chicken 170g         2        2.9  \n",
            "3         Smiths Chip Thinly  S/Cream&Onion 175g         5       15.0  \n",
            "4       Kettle Tortilla ChpsHny&Jlpno Chili 150g         3       13.8  \n",
            "...                                          ...       ...        ...  \n",
            "264831   Kettle Sweet Chilli And Sour Cream 175g         2       10.8  \n",
            "264832             Tostitos Splash Of  Lime 175g         1        4.4  \n",
            "264833                  Doritos Mexicana    170g         2        8.8  \n",
            "264834   Doritos Corn Chip Mexican Jalapeno 150g         2        7.8  \n",
            "264835             Tostitos Splash Of  Lime 175g         2        8.8  \n",
            "\n",
            "[264836 rows x 8 columns]\n"
          ]
        }
      ]
    },
    {
      "cell_type": "code",
      "source": [
        "# count of chips item in prod_name=Cobs Popd Sea Salt Chips 110g column in transaction data\n",
        "count_for_chips_1=0\n",
        "for i in transaction_data[\"PROD_NAME\"]:\n",
        "  if i==\"Cobs Popd Sea Salt  Chips 110g\" :\n",
        "    count_for_chips_1+=1\n",
        "print(\"count of 1st chips item=\",count_for_chips_1)\n",
        "# count of chips item in prod_name=Cobs Popd Sour Crm &Chives Chips 110g column in transaction data\n",
        "count_for_chips_2=0\n",
        "for i in transaction_data[\"PROD_NAME\"]:\n",
        "  if i==\"Cobs Popd Sour Crm  &Chives Chips 110g\":\n",
        "    count_for_chips_2+=1\n",
        "print(\"count of 2nd chips item=\",count_for_chips_2)\n",
        "# count of chips item in prod_name=Cobs Popd Swt/Chlli &Sr/Cream Chips 110g column in transaction data\n",
        "count_for_chips_3=0\n",
        "for i in transaction_data[\"PROD_NAME\"]:\n",
        "  if i==\"Cobs Popd Swt/Chlli &Sr/Cream Chips 110g\":\n",
        "    count_for_chips_3+=1\n",
        "print(\"count of 3rd chips item=\",count_for_chips_3)\n",
        "# count of chips item in prod_name=Doritos Corn Chips  Cheese Supreme 170g column in transaction data\n",
        "count_for_chips_4=0\n",
        "for i in transaction_data[\"PROD_NAME\"]:\n",
        "  if i==\"Doritos Corn Chips  Cheese Supreme 170g\":\n",
        "    count_for_chips_4+=1\n",
        "print(\"count of 4th chips item=\",count_for_chips_4)\n",
        "# count of chips item in prod_name=Doritos Corn Chips  Nacho Cheese 170g column in transaction data\n",
        "count_for_chips_5=0\n",
        "for i in transaction_data[\"PROD_NAME\"]:\n",
        "  if i==\"Doritos Corn Chips  Nacho Cheese 170g\":\n",
        "    count_for_chips_5+=1\n",
        "print(\"count of 5th chips item=\",count_for_chips_5)\n",
        "# count of chips item in prod_name=Doritos Corn Chips  Original 170g column in transaction data\n",
        "count_for_chips_6=0\n",
        "for i in transaction_data[\"PROD_NAME\"]:\n",
        "  if i==\"Doritos Corn Chips  Original 170g\":\n",
        "    count_for_chips_6+=1\n",
        "print(\"count of 6th chips item=\",count_for_chips_6)\n",
        "# count of chips item in prod_name=French Fries Potato Chips 175g column in transaction data\n",
        "count_for_chips_7=0\n",
        "for i in transaction_data[\"PROD_NAME\"]:\n",
        "  if i==\"French Fries Potato Chips 175g\":\n",
        "    count_for_chips_7+=1\n",
        "print(\"count of 7th chips item=\",count_for_chips_7)\n",
        "# count of chips item in prod_name=Smiths Crinkle Chips Salt & Vinegar 330g column in transaction data\n",
        "count_for_chips_8=0\n",
        "for i in transaction_data[\"PROD_NAME\"]:\n",
        "  if i==\"Smiths Crinkle Chips Salt & Vinegar 330g\":\n",
        "    count_for_chips_8+=1\n",
        "print(\"count of 8th chips item=\",count_for_chips_8)\n",
        "# count of chips item in prod_name=Smiths Crinkle Cut  Chips Barbecue 170g column in transaction data\n",
        "count_for_chips_9=0\n",
        "for i in transaction_data[\"PROD_NAME\"]:\n",
        "  if i==\"Smiths Crinkle Cut  Chips Barbecue 170g\":\n",
        "    count_for_chips_9+=1\n",
        "print(\"count of 9th chips item=\",count_for_chips_9)\n",
        "# count of chips item in prod_name=Smiths Crinkle Cut  Chips Chicken 170g column in transaction data\n",
        "count_for_chips_10=0\n",
        "for i in transaction_data[\"PROD_NAME\"]:\n",
        "  if i==\"Smiths Crinkle Cut  Chips Chicken 170g\":\n",
        "    count_for_chips_10+=1\n",
        "print(\"count of 10th chips item=\",count_for_chips_10)\n",
        "# count of chips item in prod_name=Smiths Crinkle Cut  Chips Chs&Onion170g column in transaction data\n",
        "count_for_chips_11=0\n",
        "for i in transaction_data[\"PROD_NAME\"]:\n",
        "  if i==\"Smiths Crinkle Cut  Chips Chs&Onion170g\":\n",
        "    count_for_chips_11+=1\n",
        "print(\"count of 11th chips item=\",count_for_chips_11)\n",
        "# count of chips item in prod_name=Smiths Crinkle Cut  Chips Original 170g column in transaction data\n",
        "count_for_chips_12=0\n",
        "for i in transaction_data[\"PROD_NAME\"]:\n",
        "  if i==\"Smiths Crinkle Cut  Chips Original 170g\":\n",
        "    count_for_chips_12+=1\n",
        "print(\"count of 12th chips item=\",count_for_chips_12)\n",
        "# count of chips item in prod_name=Thins Chips         Originl saltd 175g column in transaction data\n",
        "count_for_chips_13=0\n",
        "for i in transaction_data[\"PROD_NAME\"]:\n",
        "  if i==\"Thins Chips         Originl saltd 175g\":\n",
        "    count_for_chips_13+=1\n",
        "print(\"count of 13th chips item=\",count_for_chips_13)\n",
        "# count of chips item in prod_name=Thins Chips         Originl saltd 175g column in transaction data\n",
        "count_for_chips_14=0\n",
        "for i in transaction_data[\"PROD_NAME\"]:\n",
        "  if i==\"Thins Chips         Originl saltd 175g\":\n",
        "    count_for_chips_14+=1\n",
        "print(\"count of 14th chips item=\",count_for_chips_14)\n",
        "# count of chips item in prod_name=Thins Chips Salt &  Vinegar 175g column in transaction data\n",
        "count_for_chips_15=0\n",
        "for i in transaction_data[\"PROD_NAME\"]:\n",
        "  if i==\"Thins Chips Salt &  Vinegar 175g\":\n",
        "    count_for_chips_15+=1\n",
        "print(\"count of 15th chips item=\",count_for_chips_15)\n",
        "# count of chips item in prod_name=Thins Chips Seasonedchicken 175g column in transaction data\n",
        "count_for_chips_16=0\n",
        "for i in transaction_data[\"PROD_NAME\"]:\n",
        "  if i==\"Thins Chips Seasonedchicken 175g\":\n",
        "    count_for_chips_16+=1\n",
        "print(\"count of 16th chips item=\",count_for_chips_16)\n",
        "# count of chips item in prod_name=Thins Potato Chips  Hot & Spicy 175g column in transaction data\n",
        "count_for_chips_17=0\n",
        "for i in transaction_data[\"PROD_NAME\"]:\n",
        "  if i==\"Thins Potato Chips  Hot & Spicy 175g\":\n",
        "    count_for_chips_17+=1\n",
        "print(\"count of 17th chips item=\",count_for_chips_17)\n",
        "# count of chips item in prod_name=WW Original Corn    Chips 200g column in transaction data\n",
        "count_for_chips_18=0\n",
        "for i in transaction_data[\"PROD_NAME\"]:\n",
        "  if i==\"WW Original Corn    Chips 200g\":\n",
        "    count_for_chips_18+=1\n",
        "print(\"count of 18th chips item=\",count_for_chips_18)\n",
        "# count of chips item in prod_name=WW Original Stacked Chips 160g column in transaction data\n",
        "count_for_chips_19=0\n",
        "for i in transaction_data[\"PROD_NAME\"]:\n",
        "  if i==\"WW Original Stacked Chips 160g\":\n",
        "    count_for_chips_19+=1\n",
        "print(\"count of 19th chips item=\",count_for_chips_19)\n",
        "# count of chips item in prod_name=WW Supreme Cheese   Corn Chips 200g column in transaction data\n",
        "count_for_chips_20=0\n",
        "for i in transaction_data[\"PROD_NAME\"]:\n",
        "  if i==\"WW Supreme Cheese   Corn Chips 200g\":\n",
        "    count_for_chips_20+=1\n",
        "print(\"count of 20th chips item=\",count_for_chips_20)\n",
        "# count of chips item in prod_name=WW Sour Cream &OnionStacked Chips 160g column in transaction data\n",
        "count_for_chips_21=0\n",
        "for i in transaction_data[\"PROD_NAME\"]:\n",
        "  if i==\"WW Sour Cream &OnionStacked Chips 160g\":\n",
        "    count_for_chips_21+=1\n",
        "print(\"count of 21th chips item=\",count_for_chips_21)\n",
        "\n",
        "\n",
        "\n"
      ],
      "metadata": {
        "colab": {
          "base_uri": "https://localhost:8080/"
        },
        "id": "PTXgEaqvqTp9",
        "outputId": "5b3d9844-2783-4323-a417-47b8f79f114c"
      },
      "execution_count": 22,
      "outputs": [
        {
          "output_type": "stream",
          "name": "stdout",
          "text": [
            "count of 1st chips item= 3265\n",
            "count of 2nd chips item= 3159\n",
            "count of 3rd chips item= 3269\n",
            "count of 4th chips item= 3217\n",
            "count of 5th chips item= 3160\n",
            "count of 6th chips item= 3121\n",
            "count of 7th chips item= 1418\n",
            "count of 8th chips item= 3197\n",
            "count of 9th chips item= 1489\n",
            "count of 10th chips item= 1484\n",
            "count of 11th chips item= 1481\n",
            "count of 12th chips item= 1461\n",
            "count of 13th chips item= 1441\n",
            "count of 14th chips item= 1441\n",
            "count of 15th chips item= 3103\n",
            "count of 16th chips item= 3114\n",
            "count of 17th chips item= 3229\n",
            "count of 18th chips item= 1495\n",
            "count of 19th chips item= 1487\n",
            "count of 20th chips item= 1509\n",
            "count of 21th chips item= 1483\n"
          ]
        }
      ]
    },
    {
      "cell_type": "code",
      "source": [
        "#dataset for the purchase behaviour\n",
        "purchase_behaviour_data=pd.DataFrame(purchase_behaviour)\n",
        "print(purchase_behaviour_data)"
      ],
      "metadata": {
        "colab": {
          "base_uri": "https://localhost:8080/"
        },
        "id": "eok_DqOSrGE7",
        "outputId": "a339b423-f4b7-4a11-a732-e61e69b79b23"
      },
      "execution_count": 5,
      "outputs": [
        {
          "output_type": "stream",
          "name": "stdout",
          "text": [
            "       LYLTY_CARD_NBR               LIFESTAGE PREMIUM_CUSTOMER\n",
            "0                1000   YOUNG SINGLES/COUPLES          Premium\n",
            "1                1002   YOUNG SINGLES/COUPLES       Mainstream\n",
            "2                1003          YOUNG FAMILIES           Budget\n",
            "3                1004   OLDER SINGLES/COUPLES       Mainstream\n",
            "4                1005  MIDAGE SINGLES/COUPLES       Mainstream\n",
            "...               ...                     ...              ...\n",
            "72632         2370651  MIDAGE SINGLES/COUPLES       Mainstream\n",
            "72633         2370701          YOUNG FAMILIES       Mainstream\n",
            "72634         2370751          YOUNG FAMILIES          Premium\n",
            "72635         2370961          OLDER FAMILIES           Budget\n",
            "72636         2373711   YOUNG SINGLES/COUPLES       Mainstream\n",
            "\n",
            "[72637 rows x 3 columns]\n"
          ]
        }
      ]
    }
  ]
}